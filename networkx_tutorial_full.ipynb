{
  "cells": [
    {
      "cell_type": "markdown",
      "source": [
        "# Assignment Set 2 (part 1)"
      ],
      "metadata": {
        "id": "-4W_rlybXvQO"
      },
      "id": "-4W_rlybXvQO"
    },
    {
      "cell_type": "markdown",
      "id": "68275cd6",
      "metadata": {
        "id": "68275cd6"
      },
      "source": [
        "## Tutorial\n",
        "\n",
        "This guide can help you start working with NetworkX.\n",
        "\n",
        "### Creating a graph\n",
        "\n",
        "Create an empty graph with no nodes and no edges."
      ]
    },
    {
      "cell_type": "markdown",
      "metadata": {
        "id": "YZLU5b4g-Thi"
      },
      "source": [
        "## Setup"
      ],
      "id": "YZLU5b4g-Thi"
    },
    {
      "cell_type": "code",
      "execution_count": 6,
      "metadata": {
        "colab": {
          "base_uri": "https://localhost:8080/"
        },
        "id": "7p2pHdwnsu7-",
        "outputId": "9395b3b0-0a12-45f1-c56e-2b01099e1aea"
      },
      "outputs": [
        {
          "output_type": "stream",
          "name": "stdout",
          "text": [
            "Looking in indexes: https://pypi.org/simple, https://us-python.pkg.dev/colab-wheels/public/simple/\n",
            "Requirement already satisfied: scipy in /usr/local/lib/python3.9/dist-packages (1.10.1)\n",
            "Requirement already satisfied: networkx in /usr/local/lib/python3.9/dist-packages (3.0)\n",
            "Requirement already satisfied: numpy<1.27.0,>=1.19.5 in /usr/local/lib/python3.9/dist-packages (from scipy) (1.22.4)\n"
          ]
        }
      ],
      "source": [
        "# Upgrade packages\n",
        "!pip install --upgrade scipy networkx"
      ],
      "id": "7p2pHdwnsu7-"
    },
    {
      "cell_type": "code",
      "execution_count": 9,
      "metadata": {
        "id": "mARzvBi4-Thj"
      },
      "outputs": [],
      "source": [
        "# Import the NetworkX package\n",
        "import networkx as nx"
      ],
      "id": "mARzvBi4-Thj"
    },
    {
      "cell_type": "markdown",
      "source": [
        "By definition, a `Graph` is a collection of nodes (vertices) along with\n",
        "identified pairs of nodes (called edges, links, etc).  In NetworkX, nodes can\n",
        "be any [hashable](https://docs.python.org/3/glossary.html#term-hashable) object e.g., a text string, an image, an XML object,\n",
        "another Graph, a customized node object, etc.\n",
        "\n"
      ],
      "metadata": {
        "id": "yggeEF76--WW"
      },
      "id": "yggeEF76--WW"
    },
    {
      "cell_type": "code",
      "execution_count": 10,
      "id": "19b94bfa",
      "metadata": {
        "execution": {
          "iopub.execute_input": "2023-03-01T06:19:24.940155Z",
          "iopub.status.busy": "2023-03-01T06:19:24.939893Z",
          "iopub.status.idle": "2023-03-01T06:19:25.013556Z",
          "shell.execute_reply": "2023-03-01T06:19:25.012817Z"
        },
        "id": "19b94bfa"
      },
      "outputs": [],
      "source": [
        "G = nx.Graph()"
      ]
    },
    {
      "cell_type": "markdown",
      "id": "1ab2fee8",
      "metadata": {
        "id": "1ab2fee8"
      },
      "source": [
        "# Nodes\n",
        "\n",
        "The graph `G` can be grown in several ways.  NetworkX includes many\n",
        "graph generator functions and\n",
        "facilities to read and write graphs in many formats.\n",
        "To get started though we’ll look at simple manipulations.  You can add one node\n",
        "at a time,"
      ]
    },
    {
      "cell_type": "code",
      "execution_count": 11,
      "id": "67ecb3a1",
      "metadata": {
        "execution": {
          "iopub.execute_input": "2023-03-01T06:19:25.017073Z",
          "iopub.status.busy": "2023-03-01T06:19:25.016679Z",
          "iopub.status.idle": "2023-03-01T06:19:25.020172Z",
          "shell.execute_reply": "2023-03-01T06:19:25.019453Z"
        },
        "id": "67ecb3a1"
      },
      "outputs": [],
      "source": [
        "G.add_node(1)"
      ]
    },
    {
      "cell_type": "markdown",
      "id": "6804ab95",
      "metadata": {
        "id": "6804ab95"
      },
      "source": [
        "or add nodes from any [iterable](https://docs.python.org/3/glossary.html#term-iterable) container, such as a list"
      ]
    },
    {
      "cell_type": "code",
      "execution_count": 12,
      "id": "c3851404",
      "metadata": {
        "execution": {
          "iopub.execute_input": "2023-03-01T06:19:25.022924Z",
          "iopub.status.busy": "2023-03-01T06:19:25.022512Z",
          "iopub.status.idle": "2023-03-01T06:19:25.025680Z",
          "shell.execute_reply": "2023-03-01T06:19:25.025063Z"
        },
        "id": "c3851404"
      },
      "outputs": [],
      "source": [
        "G.add_nodes_from([2, 3])"
      ]
    },
    {
      "cell_type": "markdown",
      "id": "abb0b4f0",
      "metadata": {
        "id": "abb0b4f0"
      },
      "source": [
        "You can also add nodes along with node\n",
        "attributes if your container yields 2-tuples of the form\n",
        "`(node, node_attribute_dict)`:\n",
        "\n",
        "```\n",
        ">>> G.add_nodes_from([\n",
        "...     (4, {\"color\": \"red\"}),\n",
        "...     (5, {\"color\": \"green\"}),\n",
        "... ])\n",
        "```\n",
        "\n",
        "Node attributes are discussed further below.\n",
        "\n",
        "Nodes from one graph can be incorporated into another:"
      ]
    },
    {
      "cell_type": "code",
      "execution_count": 13,
      "id": "6b56f6e6",
      "metadata": {
        "execution": {
          "iopub.execute_input": "2023-03-01T06:19:25.028236Z",
          "iopub.status.busy": "2023-03-01T06:19:25.027828Z",
          "iopub.status.idle": "2023-03-01T06:19:25.031547Z",
          "shell.execute_reply": "2023-03-01T06:19:25.030916Z"
        },
        "id": "6b56f6e6"
      },
      "outputs": [],
      "source": [
        "H = nx.path_graph(10)\n",
        "G.add_nodes_from(H)"
      ]
    },
    {
      "cell_type": "markdown",
      "id": "f43af84c",
      "metadata": {
        "id": "f43af84c"
      },
      "source": [
        "`G` now contains the nodes of `H` as nodes of `G`.\n",
        "In contrast, you could use the graph `H` as a node in `G`."
      ]
    },
    {
      "cell_type": "code",
      "execution_count": 14,
      "id": "7759f832",
      "metadata": {
        "execution": {
          "iopub.execute_input": "2023-03-01T06:19:25.034043Z",
          "iopub.status.busy": "2023-03-01T06:19:25.033630Z",
          "iopub.status.idle": "2023-03-01T06:19:25.036635Z",
          "shell.execute_reply": "2023-03-01T06:19:25.036010Z"
        },
        "id": "7759f832"
      },
      "outputs": [],
      "source": [
        "G.add_node(H)"
      ]
    },
    {
      "cell_type": "markdown",
      "id": "332bf89f",
      "metadata": {
        "id": "332bf89f"
      },
      "source": [
        "The graph `G` now contains `H` as a node.  This flexibility is very powerful as\n",
        "it allows graphs of graphs, graphs of files, graphs of functions and much more.\n",
        "It is worth thinking about how to structure your application so that the nodes\n",
        "are useful entities.  Of course you can always use a unique identifier in `G`\n",
        "and have a separate dictionary keyed by identifier to the node information if\n",
        "you prefer.\n",
        "\n",
        "# Edges\n",
        "\n",
        "`G` can also be grown by adding one edge at a time,"
      ]
    },
    {
      "cell_type": "code",
      "execution_count": 15,
      "id": "89a76111",
      "metadata": {
        "execution": {
          "iopub.execute_input": "2023-03-01T06:19:25.039134Z",
          "iopub.status.busy": "2023-03-01T06:19:25.038640Z",
          "iopub.status.idle": "2023-03-01T06:19:25.041950Z",
          "shell.execute_reply": "2023-03-01T06:19:25.041328Z"
        },
        "id": "89a76111"
      },
      "outputs": [],
      "source": [
        "G.add_edge(1, 2)\n",
        "e = (2, 3)\n",
        "G.add_edge(*e)  # unpack edge tuple*"
      ]
    },
    {
      "cell_type": "markdown",
      "id": "53030470",
      "metadata": {
        "id": "53030470"
      },
      "source": [
        "by adding a list of edges,"
      ]
    },
    {
      "cell_type": "code",
      "execution_count": 16,
      "id": "da13d8ed",
      "metadata": {
        "execution": {
          "iopub.execute_input": "2023-03-01T06:19:25.044851Z",
          "iopub.status.busy": "2023-03-01T06:19:25.044321Z",
          "iopub.status.idle": "2023-03-01T06:19:25.047529Z",
          "shell.execute_reply": "2023-03-01T06:19:25.046901Z"
        },
        "id": "da13d8ed"
      },
      "outputs": [],
      "source": [
        "G.add_edges_from([(1, 2), (1, 3)])"
      ]
    },
    {
      "cell_type": "markdown",
      "id": "25804465",
      "metadata": {
        "id": "25804465"
      },
      "source": [
        "or by adding any ebunch of edges.  An *ebunch* is any iterable\n",
        "container of edge-tuples.  An edge-tuple can be a 2-tuple of nodes or a 3-tuple\n",
        "with 2 nodes followed by an edge attribute dictionary, e.g.,\n",
        "`(2, 3, {'weight': 3.1415})`.  Edge attributes are discussed further\n",
        "below."
      ]
    },
    {
      "cell_type": "code",
      "execution_count": 17,
      "id": "06ae1871",
      "metadata": {
        "execution": {
          "iopub.execute_input": "2023-03-01T06:19:25.050174Z",
          "iopub.status.busy": "2023-03-01T06:19:25.049680Z",
          "iopub.status.idle": "2023-03-01T06:19:25.052743Z",
          "shell.execute_reply": "2023-03-01T06:19:25.052119Z"
        },
        "id": "06ae1871"
      },
      "outputs": [],
      "source": [
        "G.add_edges_from(H.edges)"
      ]
    },
    {
      "cell_type": "markdown",
      "id": "30437981",
      "metadata": {
        "id": "30437981"
      },
      "source": [
        "There are no complaints when adding existing nodes or edges. For example,\n",
        "after removing all nodes and edges,"
      ]
    },
    {
      "cell_type": "code",
      "execution_count": 18,
      "id": "a1bbf1ea",
      "metadata": {
        "execution": {
          "iopub.execute_input": "2023-03-01T06:19:25.055204Z",
          "iopub.status.busy": "2023-03-01T06:19:25.054872Z",
          "iopub.status.idle": "2023-03-01T06:19:25.057872Z",
          "shell.execute_reply": "2023-03-01T06:19:25.057245Z"
        },
        "id": "a1bbf1ea"
      },
      "outputs": [],
      "source": [
        "G.clear()"
      ]
    },
    {
      "cell_type": "markdown",
      "id": "9999554e",
      "metadata": {
        "id": "9999554e"
      },
      "source": [
        "we add new nodes/edges and NetworkX quietly ignores any that are\n",
        "already present."
      ]
    },
    {
      "cell_type": "code",
      "execution_count": 19,
      "id": "d3de6a92",
      "metadata": {
        "execution": {
          "iopub.execute_input": "2023-03-01T06:19:25.060375Z",
          "iopub.status.busy": "2023-03-01T06:19:25.060043Z",
          "iopub.status.idle": "2023-03-01T06:19:25.063951Z",
          "shell.execute_reply": "2023-03-01T06:19:25.063314Z"
        },
        "id": "d3de6a92"
      },
      "outputs": [],
      "source": [
        "G.add_edges_from([(1, 2), (1, 3)])\n",
        "G.add_node(1)\n",
        "G.add_edge(1, 2)\n",
        "G.add_node(\"spam\")        # adds node \"spam\"\n",
        "G.add_nodes_from(\"spam\")  # adds 4 nodes: 's', 'p', 'a', 'm'\n",
        "G.add_edge(3, 'm')"
      ]
    },
    {
      "cell_type": "markdown",
      "id": "bccf9302",
      "metadata": {
        "id": "bccf9302"
      },
      "source": [
        "At this stage the graph `G` consists of 8 nodes and 3 edges, as can be seen by:"
      ]
    },
    {
      "cell_type": "code",
      "execution_count": 20,
      "id": "bdf10c94",
      "metadata": {
        "execution": {
          "iopub.execute_input": "2023-03-01T06:19:25.066449Z",
          "iopub.status.busy": "2023-03-01T06:19:25.066105Z",
          "iopub.status.idle": "2023-03-01T06:19:25.072911Z",
          "shell.execute_reply": "2023-03-01T06:19:25.072239Z"
        },
        "colab": {
          "base_uri": "https://localhost:8080/"
        },
        "id": "bdf10c94",
        "outputId": "09e6a26c-0bac-447e-e17f-6210cd344d77"
      },
      "outputs": [
        {
          "output_type": "execute_result",
          "data": {
            "text/plain": [
              "3"
            ]
          },
          "metadata": {},
          "execution_count": 20
        }
      ],
      "source": [
        "G.number_of_nodes()\n",
        "G.number_of_edges()"
      ]
    },
    {
      "cell_type": "code",
      "execution_count": 21,
      "id": "3196a77b",
      "metadata": {
        "execution": {
          "iopub.execute_input": "2023-03-01T06:19:25.076436Z",
          "iopub.status.busy": "2023-03-01T06:19:25.075914Z",
          "iopub.status.idle": "2023-03-01T06:19:25.080315Z",
          "shell.execute_reply": "2023-03-01T06:19:25.079698Z"
        },
        "id": "3196a77b"
      },
      "outputs": [],
      "source": [
        "DG = nx.DiGraph()\n",
        "DG.add_edge(2, 1)   # adds the nodes in order 2, 1\n",
        "DG.add_edge(1, 3)\n",
        "DG.add_edge(2, 4)\n",
        "DG.add_edge(1, 2)\n",
        "assert list(DG.successors(2)) == [1, 4]\n",
        "assert list(DG.edges) == [(2, 1), (2, 4), (1, 3), (1, 2)]"
      ]
    },
    {
      "cell_type": "markdown",
      "id": "345c31f9",
      "metadata": {
        "id": "345c31f9"
      },
      "source": [
        "# Examining elements of a graph\n",
        "\n",
        "We can examine the nodes and edges. Four basic graph properties facilitate\n",
        "reporting: `G.nodes`, `G.edges`, `G.adj` and `G.degree`.  These\n",
        "are set-like views of the nodes, edges, neighbors (adjacencies), and degrees\n",
        "of nodes in a graph. They offer a continually updated read-only view into\n",
        "the graph structure. They are also dict-like in that you can look up node\n",
        "and edge data attributes via the views and iterate with data attributes\n",
        "using methods `.items()`, `.data()`.\n",
        "If you want a specific container type instead of a view, you can specify one.\n",
        "Here we use lists, though sets, dicts, tuples and other containers may be\n",
        "better in other contexts."
      ]
    },
    {
      "cell_type": "code",
      "execution_count": 22,
      "id": "ed5cdc2e",
      "metadata": {
        "execution": {
          "iopub.execute_input": "2023-03-01T06:19:25.082901Z",
          "iopub.status.busy": "2023-03-01T06:19:25.082495Z",
          "iopub.status.idle": "2023-03-01T06:19:25.087281Z",
          "shell.execute_reply": "2023-03-01T06:19:25.086651Z"
        },
        "colab": {
          "base_uri": "https://localhost:8080/"
        },
        "id": "ed5cdc2e",
        "outputId": "7c26a15c-1c61-4a9d-a365-f4ca1bbdec00"
      },
      "outputs": [
        {
          "output_type": "execute_result",
          "data": {
            "text/plain": [
              "2"
            ]
          },
          "metadata": {},
          "execution_count": 22
        }
      ],
      "source": [
        "list(G.nodes)\n",
        "list(G.edges)\n",
        "list(G.adj[1])  # or list(G.neighbors(1))\n",
        "G.degree[1]  # the number of edges incident to 1"
      ]
    },
    {
      "cell_type": "markdown",
      "id": "75ad832a",
      "metadata": {
        "id": "75ad832a"
      },
      "source": [
        "One can specify to report the edges and degree from a subset of all nodes\n",
        "using an nbunch. An *nbunch* is any of: `None` (meaning all nodes),\n",
        "a node, or an iterable container of nodes that is not itself a node in the\n",
        "graph."
      ]
    },
    {
      "cell_type": "code",
      "execution_count": 23,
      "id": "f5e8dd34",
      "metadata": {
        "execution": {
          "iopub.execute_input": "2023-03-01T06:19:25.090086Z",
          "iopub.status.busy": "2023-03-01T06:19:25.089676Z",
          "iopub.status.idle": "2023-03-01T06:19:25.094159Z",
          "shell.execute_reply": "2023-03-01T06:19:25.093539Z"
        },
        "colab": {
          "base_uri": "https://localhost:8080/"
        },
        "id": "f5e8dd34",
        "outputId": "61143c76-77b1-4b2f-b80f-7185a9c1f4b3"
      },
      "outputs": [
        {
          "output_type": "execute_result",
          "data": {
            "text/plain": [
              "DegreeView({2: 1, 3: 2})"
            ]
          },
          "metadata": {},
          "execution_count": 23
        }
      ],
      "source": [
        "G.edges([2, 'm'])\n",
        "G.degree([2, 3])"
      ]
    },
    {
      "cell_type": "markdown",
      "id": "0abc141d",
      "metadata": {
        "id": "0abc141d"
      },
      "source": [
        "# Removing elements from a graph\n",
        "\n",
        "One can remove nodes and edges from the graph in a similar fashion to adding.\n",
        "Use methods\n",
        "`Graph.remove_node()`,\n",
        "`Graph.remove_nodes_from()`,\n",
        "`Graph.remove_edge()`\n",
        "and\n",
        "`Graph.remove_edges_from()`, e.g."
      ]
    },
    {
      "cell_type": "code",
      "execution_count": 24,
      "id": "35d7aca1",
      "metadata": {
        "execution": {
          "iopub.execute_input": "2023-03-01T06:19:25.097163Z",
          "iopub.status.busy": "2023-03-01T06:19:25.096667Z",
          "iopub.status.idle": "2023-03-01T06:19:25.100002Z",
          "shell.execute_reply": "2023-03-01T06:19:25.099366Z"
        },
        "id": "35d7aca1"
      },
      "outputs": [],
      "source": [
        "G.remove_node(2)\n",
        "G.remove_nodes_from(\"spam\")\n",
        "list(G.nodes)\n",
        "G.remove_edge(1, 3)"
      ]
    },
    {
      "cell_type": "markdown",
      "id": "4abe4d25",
      "metadata": {
        "id": "4abe4d25"
      },
      "source": [
        "# Using the graph constructors\n",
        "\n",
        "Graph objects do not have to be built up incrementally - data specifying\n",
        "graph structure can be passed directly to the constructors of the various\n",
        "graph classes.\n",
        "When creating a graph structure by instantiating one of the graph\n",
        "classes you can specify data in several formats."
      ]
    },
    {
      "cell_type": "code",
      "execution_count": 25,
      "id": "1f68843e",
      "metadata": {
        "execution": {
          "iopub.execute_input": "2023-03-01T06:19:25.102521Z",
          "iopub.status.busy": "2023-03-01T06:19:25.102187Z",
          "iopub.status.idle": "2023-03-01T06:19:25.368450Z",
          "shell.execute_reply": "2023-03-01T06:19:25.367793Z"
        },
        "colab": {
          "base_uri": "https://localhost:8080/"
        },
        "id": "1f68843e",
        "outputId": "8ea32e84-27a0-41e4-b360-da7a3a3f2dbf"
      },
      "outputs": [
        {
          "output_type": "execute_result",
          "data": {
            "text/plain": [
              "[(0, 1), (0, 2), (1, 2)]"
            ]
          },
          "metadata": {},
          "execution_count": 25
        }
      ],
      "source": [
        "G.add_edge(1, 2)\n",
        "H = nx.DiGraph(G)  # create a DiGraph using the connections from G\n",
        "list(H.edges())\n",
        "edgelist = [(0, 1), (1, 2), (2, 3)]\n",
        "H = nx.Graph(edgelist)  # create a graph from an edge list\n",
        "list(H.edges())\n",
        "adjacency_dict = {0: (1, 2), 1: (0, 2), 2: (0, 1)}\n",
        "H = nx.Graph(adjacency_dict)  # create a Graph dict mapping nodes to nbrs\n",
        "list(H.edges())"
      ]
    },
    {
      "cell_type": "markdown",
      "id": "3730b797",
      "metadata": {
        "id": "3730b797"
      },
      "source": [
        "# What to use as nodes and edges\n",
        "\n",
        "You might notice that nodes and edges are not specified as NetworkX\n",
        "objects.  This leaves you free to use meaningful items as nodes and\n",
        "edges. The most common choices are numbers or strings, but a node can\n",
        "be any hashable object (except `None`), and an edge can be associated\n",
        "with any object `x` using `G.add_edge(n1, n2, object=x)`.\n",
        "\n",
        "As an example, `n1` and `n2` could be protein objects from the RCSB Protein\n",
        "Data Bank, and `x` could refer to an XML record of publications detailing\n",
        "experimental observations of their interaction.\n",
        "\n",
        "We have found this power quite useful, but its abuse\n",
        "can lead to surprising behavior unless one is familiar with Python.\n",
        "If in doubt, consider using `convert_node_labels_to_integers()` to obtain\n",
        "a more traditional graph with integer labels.\n",
        "\n",
        "# Accessing edges and neighbors\n",
        "\n",
        "In addition to the views `Graph.edges`, and `Graph.adj`,\n",
        "access to edges and neighbors is possible using subscript notation."
      ]
    },
    {
      "cell_type": "code",
      "execution_count": 26,
      "id": "1e68ef1e",
      "metadata": {
        "execution": {
          "iopub.execute_input": "2023-03-01T06:19:25.371524Z",
          "iopub.status.busy": "2023-03-01T06:19:25.371040Z",
          "iopub.status.idle": "2023-03-01T06:19:25.377770Z",
          "shell.execute_reply": "2023-03-01T06:19:25.377208Z"
        },
        "colab": {
          "base_uri": "https://localhost:8080/"
        },
        "id": "1e68ef1e",
        "outputId": "b96a06bc-a588-4550-ae5f-b1009637c53e"
      },
      "outputs": [
        {
          "output_type": "execute_result",
          "data": {
            "text/plain": [
              "{'color': 'yellow'}"
            ]
          },
          "metadata": {},
          "execution_count": 26
        }
      ],
      "source": [
        "G = nx.Graph([(1, 2, {\"color\": \"yellow\"})])\n",
        "G[1]  # same as G.adj[1]\n",
        "G[1][2]\n",
        "G.edges[1, 2]"
      ]
    },
    {
      "cell_type": "markdown",
      "id": "6a1dc13c",
      "metadata": {
        "id": "6a1dc13c"
      },
      "source": [
        "You can get/set the attributes of an edge using subscript notation\n",
        "if the edge already exists."
      ]
    },
    {
      "cell_type": "code",
      "execution_count": 27,
      "id": "0c1a39f8",
      "metadata": {
        "execution": {
          "iopub.execute_input": "2023-03-01T06:19:25.380594Z",
          "iopub.status.busy": "2023-03-01T06:19:25.380084Z",
          "iopub.status.idle": "2023-03-01T06:19:25.385905Z",
          "shell.execute_reply": "2023-03-01T06:19:25.385341Z"
        },
        "colab": {
          "base_uri": "https://localhost:8080/"
        },
        "id": "0c1a39f8",
        "outputId": "9368407c-c4e3-4f10-9837-fa150000ccdf"
      },
      "outputs": [
        {
          "output_type": "execute_result",
          "data": {
            "text/plain": [
              "{'color': 'red'}"
            ]
          },
          "metadata": {},
          "execution_count": 27
        }
      ],
      "source": [
        "G.add_edge(1, 3)\n",
        "G[1][3]['color'] = \"blue\"\n",
        "G.edges[1, 2]['color'] = \"red\"\n",
        "G.edges[1, 2]"
      ]
    },
    {
      "cell_type": "markdown",
      "id": "46bc6b7d",
      "metadata": {
        "id": "46bc6b7d"
      },
      "source": [
        "Fast examination of all (node, adjacency) pairs is achieved using\n",
        "`G.adjacency()`, or `G.adj.items()`.\n",
        "Note that for undirected graphs, adjacency iteration sees each edge twice."
      ]
    },
    {
      "cell_type": "code",
      "execution_count": 28,
      "id": "651a611d",
      "metadata": {
        "execution": {
          "iopub.execute_input": "2023-03-01T06:19:25.389020Z",
          "iopub.status.busy": "2023-03-01T06:19:25.388493Z",
          "iopub.status.idle": "2023-03-01T06:19:25.394500Z",
          "shell.execute_reply": "2023-03-01T06:19:25.393509Z"
        },
        "colab": {
          "base_uri": "https://localhost:8080/"
        },
        "id": "651a611d",
        "outputId": "1e8f31ec-a699-42ec-ab0c-d4f163c57e00"
      },
      "outputs": [
        {
          "output_type": "stream",
          "name": "stdout",
          "text": [
            "(1, 2, 0.125)\n",
            "(2, 1, 0.125)\n",
            "(3, 4, 0.375)\n",
            "(4, 3, 0.375)\n"
          ]
        }
      ],
      "source": [
        "FG = nx.Graph()\n",
        "FG.add_weighted_edges_from([(1, 2, 0.125), (1, 3, 0.75), (2, 4, 1.2), (3, 4, 0.375)])\n",
        "for n, nbrs in FG.adj.items():\n",
        "   for nbr, eattr in nbrs.items():\n",
        "       wt = eattr['weight']\n",
        "       if wt < 0.5: print(f\"({n}, {nbr}, {wt:.3})\")"
      ]
    },
    {
      "cell_type": "markdown",
      "id": "3223e6b7",
      "metadata": {
        "id": "3223e6b7"
      },
      "source": [
        "Convenient access to all edges is achieved with the edges property."
      ]
    },
    {
      "cell_type": "code",
      "execution_count": 29,
      "id": "eeb021b2",
      "metadata": {
        "execution": {
          "iopub.execute_input": "2023-03-01T06:19:25.397450Z",
          "iopub.status.busy": "2023-03-01T06:19:25.397040Z",
          "iopub.status.idle": "2023-03-01T06:19:25.401671Z",
          "shell.execute_reply": "2023-03-01T06:19:25.401028Z"
        },
        "colab": {
          "base_uri": "https://localhost:8080/"
        },
        "id": "eeb021b2",
        "outputId": "c6ccbc2e-cbf0-49fd-a698-8d53b0c7f5b1"
      },
      "outputs": [
        {
          "output_type": "stream",
          "name": "stdout",
          "text": [
            "(1, 2, 0.125)\n",
            "(3, 4, 0.375)\n"
          ]
        }
      ],
      "source": [
        "for (u, v, wt) in FG.edges.data('weight'):\n",
        "    if wt < 0.5:\n",
        "        print(f\"({u}, {v}, {wt:.3})\")"
      ]
    },
    {
      "cell_type": "markdown",
      "id": "69965865",
      "metadata": {
        "id": "69965865"
      },
      "source": [
        "# Adding attributes to graphs, nodes, and edges\n",
        "\n",
        "Attributes such as weights, labels, colors, or whatever Python object you like,\n",
        "can be attached to graphs, nodes, or edges.\n",
        "\n",
        "Each graph, node, and edge can hold key/value attribute pairs in an associated\n",
        "attribute dictionary (the keys must be hashable).  By default these are empty,\n",
        "but attributes can be added or changed using `add_edge`, `add_node` or direct\n",
        "manipulation of the attribute dictionaries named `G.graph`, `G.nodes`, and\n",
        "`G.edges` for a graph `G`.\n",
        "\n",
        "## Graph attributes\n",
        "\n",
        "Assign graph attributes when creating a new graph"
      ]
    },
    {
      "cell_type": "code",
      "execution_count": 30,
      "id": "ead162dc",
      "metadata": {
        "execution": {
          "iopub.execute_input": "2023-03-01T06:19:25.404061Z",
          "iopub.status.busy": "2023-03-01T06:19:25.403722Z",
          "iopub.status.idle": "2023-03-01T06:19:25.409465Z",
          "shell.execute_reply": "2023-03-01T06:19:25.408896Z"
        },
        "colab": {
          "base_uri": "https://localhost:8080/"
        },
        "id": "ead162dc",
        "outputId": "e1a261d3-c3a2-4c64-ef86-359de5702da4"
      },
      "outputs": [
        {
          "output_type": "execute_result",
          "data": {
            "text/plain": [
              "{'day': 'Friday'}"
            ]
          },
          "metadata": {},
          "execution_count": 30
        }
      ],
      "source": [
        "G = nx.Graph(day=\"Friday\")\n",
        "G.graph"
      ]
    },
    {
      "cell_type": "markdown",
      "id": "07bd3814",
      "metadata": {
        "id": "07bd3814"
      },
      "source": [
        "Or you can modify attributes later"
      ]
    },
    {
      "cell_type": "code",
      "execution_count": 31,
      "id": "9eba1986",
      "metadata": {
        "execution": {
          "iopub.execute_input": "2023-03-01T06:19:25.411911Z",
          "iopub.status.busy": "2023-03-01T06:19:25.411484Z",
          "iopub.status.idle": "2023-03-01T06:19:25.416383Z",
          "shell.execute_reply": "2023-03-01T06:19:25.415770Z"
        },
        "colab": {
          "base_uri": "https://localhost:8080/"
        },
        "id": "9eba1986",
        "outputId": "e7b33515-ce55-411e-fe06-cd4e45054f81"
      },
      "outputs": [
        {
          "output_type": "execute_result",
          "data": {
            "text/plain": [
              "{'day': 'Monday'}"
            ]
          },
          "metadata": {},
          "execution_count": 31
        }
      ],
      "source": [
        "G.graph['day'] = \"Monday\"\n",
        "G.graph"
      ]
    },
    {
      "cell_type": "code",
      "execution_count": 32,
      "id": "42568540",
      "metadata": {
        "execution": {
          "iopub.execute_input": "2023-03-01T06:19:25.418854Z",
          "iopub.status.busy": "2023-03-01T06:19:25.418517Z",
          "iopub.status.idle": "2023-03-01T06:19:25.423627Z",
          "shell.execute_reply": "2023-03-01T06:19:25.422972Z"
        },
        "colab": {
          "base_uri": "https://localhost:8080/"
        },
        "id": "42568540",
        "outputId": "8a5fae5c-81f0-4017-8d06-f46fe92a0460"
      },
      "outputs": [
        {
          "output_type": "execute_result",
          "data": {
            "text/plain": [
              "NodeDataView({1: {'time': '5pm', 'room': 714}, 3: {'time': '2pm'}})"
            ]
          },
          "metadata": {},
          "execution_count": 32
        }
      ],
      "source": [
        "G.add_node(1, time='5pm')\n",
        "G.add_nodes_from([3], time='2pm')\n",
        "G.nodes[1]\n",
        "G.nodes[1]['room'] = 714\n",
        "G.nodes.data()"
      ]
    },
    {
      "cell_type": "markdown",
      "id": "be30dd71",
      "metadata": {
        "id": "be30dd71"
      },
      "source": [
        "Note that adding a node to `G.nodes` does not add it to the graph, use\n",
        "`G.add_node()` to add new nodes. Similarly for edges.\n",
        "\n",
        "# Edge Attributes\n",
        "\n",
        "Add/change edge attributes using `add_edge()`, `add_edges_from()`,\n",
        "or subscript notation."
      ]
    },
    {
      "cell_type": "code",
      "execution_count": 34,
      "id": "80e79c0d",
      "metadata": {
        "execution": {
          "iopub.execute_input": "2023-03-01T06:19:25.426410Z",
          "iopub.status.busy": "2023-03-01T06:19:25.426075Z",
          "iopub.status.idle": "2023-03-01T06:19:25.430358Z",
          "shell.execute_reply": "2023-03-01T06:19:25.429723Z"
        },
        "id": "80e79c0d"
      },
      "outputs": [],
      "source": [
        "G.add_edge(1, 2, weight=4.7 )\n",
        "G.add_edges_from([(3, 4), (4, 5)], color='red')\n",
        "G.add_edges_from([(1, 2, {'color': 'blue'}), (2, 3, {'weight': 8})])\n",
        "G[1][2]['weight'] = 4.7\n",
        "G.edges[3, 4]['weight'] = 4.2"
      ]
    },
    {
      "cell_type": "markdown",
      "id": "9aacb5f5",
      "metadata": {
        "id": "9aacb5f5"
      },
      "source": [
        "The special attribute `weight` should be numeric as it is used by\n",
        "algorithms requiring weighted edges.\n",
        "\n",
        " Directed graphs\n",
        "\n",
        "The `DiGraph` class provides additional methods and properties specific\n",
        "to directed edges, e.g.,\n",
        "`DiGraph.out_edges`, `DiGraph.in_degree`,\n",
        "`DiGraph.predecessors`, `DiGraph.successors` etc.\n",
        "To allow algorithms to work with both classes easily, the directed versions of\n",
        "`neighbors` is equivalent to\n",
        "`successors` while `degree` reports the sum\n",
        "of `in_degree` and `out_degree` even though that may feel inconsistent at times."
      ]
    },
    {
      "cell_type": "code",
      "execution_count": 35,
      "id": "feac3d44",
      "metadata": {
        "execution": {
          "iopub.execute_input": "2023-03-01T06:19:25.432720Z",
          "iopub.status.busy": "2023-03-01T06:19:25.432382Z",
          "iopub.status.idle": "2023-03-01T06:19:25.438001Z",
          "shell.execute_reply": "2023-03-01T06:19:25.437347Z"
        },
        "colab": {
          "base_uri": "https://localhost:8080/"
        },
        "id": "feac3d44",
        "outputId": "4b62f734-2904-4bf7-f642-64ebb48c501b"
      },
      "outputs": [
        {
          "output_type": "execute_result",
          "data": {
            "text/plain": [
              "[2]"
            ]
          },
          "metadata": {},
          "execution_count": 35
        }
      ],
      "source": [
        "DG = nx.DiGraph()\n",
        "DG.add_weighted_edges_from([(1, 2, 0.5), (3, 1, 0.75)])\n",
        "DG.out_degree(1, weight='weight')\n",
        "DG.degree(1, weight='weight')\n",
        "list(DG.successors(1))\n",
        "list(DG.neighbors(1))"
      ]
    },
    {
      "cell_type": "markdown",
      "id": "fbb275e3",
      "metadata": {
        "id": "fbb275e3"
      },
      "source": [
        "Some algorithms work only for directed graphs and others are not well\n",
        "defined for directed graphs.  Indeed the tendency to lump directed\n",
        "and undirected graphs together is dangerous.  If you want to treat\n",
        "a directed graph as undirected for some measurement you should probably\n",
        "convert it using `Graph.to_undirected()` or with"
      ]
    },
    {
      "cell_type": "code",
      "execution_count": 36,
      "id": "1e91a29e",
      "metadata": {
        "execution": {
          "iopub.execute_input": "2023-03-01T06:19:25.440765Z",
          "iopub.status.busy": "2023-03-01T06:19:25.440425Z",
          "iopub.status.idle": "2023-03-01T06:19:25.443574Z",
          "shell.execute_reply": "2023-03-01T06:19:25.442936Z"
        },
        "id": "1e91a29e"
      },
      "outputs": [],
      "source": [
        "H = nx.Graph(G)  # create an undirected graph H from a directed graph G"
      ]
    },
    {
      "cell_type": "markdown",
      "id": "6028dd2f",
      "metadata": {
        "id": "6028dd2f"
      },
      "source": [
        "# Multigraphs\n",
        "\n",
        "NetworkX provides classes for graphs which allow multiple edges\n",
        "between any pair of nodes.  The `MultiGraph` and\n",
        "`MultiDiGraph`\n",
        "classes allow you to add the same edge twice, possibly with different\n",
        "edge data.  This can be powerful for some applications, but many\n",
        "algorithms are not well defined on such graphs.\n",
        "Where results are well defined,\n",
        "e.g., `MultiGraph.degree()` we provide the function.  Otherwise you\n",
        "should convert to a standard graph in a way that makes the measurement\n",
        "well defined."
      ]
    },
    {
      "cell_type": "code",
      "execution_count": 37,
      "id": "b95a2ece",
      "metadata": {
        "execution": {
          "iopub.execute_input": "2023-03-01T06:19:25.446130Z",
          "iopub.status.busy": "2023-03-01T06:19:25.445797Z",
          "iopub.status.idle": "2023-03-01T06:19:25.452522Z",
          "shell.execute_reply": "2023-03-01T06:19:25.451859Z"
        },
        "colab": {
          "base_uri": "https://localhost:8080/"
        },
        "id": "b95a2ece",
        "outputId": "2fbab373-03a4-4631-bc07-9cc56e8c04ea"
      },
      "outputs": [
        {
          "output_type": "execute_result",
          "data": {
            "text/plain": [
              "[1, 2, 3]"
            ]
          },
          "metadata": {},
          "execution_count": 37
        }
      ],
      "source": [
        "MG = nx.MultiGraph()\n",
        "MG.add_weighted_edges_from([(1, 2, 0.5), (1, 2, 0.75), (2, 3, 0.5)])\n",
        "dict(MG.degree(weight='weight'))\n",
        "GG = nx.Graph()\n",
        "for n, nbrs in MG.adjacency():\n",
        "   for nbr, edict in nbrs.items():\n",
        "       minvalue = min([d['weight'] for d in edict.values()])\n",
        "       GG.add_edge(n, nbr, weight = minvalue)\n",
        "\n",
        "nx.shortest_path(GG, 1, 3)"
      ]
    },
    {
      "cell_type": "markdown",
      "id": "6312d55a",
      "metadata": {
        "id": "6312d55a"
      },
      "source": [
        "# Graph generators and graph operations\n",
        "\n",
        "In addition to constructing graphs node-by-node or edge-by-edge, they\n",
        "can also be generated by\n",
        "\n",
        "## 1. Applying classic graph operations, such as:\n",
        "\n",
        "## 2. Using a call to one of the classic small graphs, e.g.,\n",
        "\n",
        "## 3. Using a (constructive) generator for a classic graph, e.g.,\n",
        "\n",
        "like so:"
      ]
    },
    {
      "cell_type": "code",
      "execution_count": 38,
      "id": "22117861",
      "metadata": {
        "execution": {
          "iopub.execute_input": "2023-03-01T06:19:25.455431Z",
          "iopub.status.busy": "2023-03-01T06:19:25.454930Z",
          "iopub.status.idle": "2023-03-01T06:19:25.459375Z",
          "shell.execute_reply": "2023-03-01T06:19:25.458738Z"
        },
        "id": "22117861"
      },
      "outputs": [],
      "source": [
        "K_5 = nx.complete_graph(5)\n",
        "K_3_5 = nx.complete_bipartite_graph(3, 5)\n",
        "barbell = nx.barbell_graph(10, 10)\n",
        "lollipop = nx.lollipop_graph(10, 20)"
      ]
    },
    {
      "cell_type": "markdown",
      "id": "c3dc663c",
      "metadata": {
        "id": "c3dc663c"
      },
      "source": [
        "# 4. Using a stochastic graph generator, e.g,\n",
        "\n",
        "like so:"
      ]
    },
    {
      "cell_type": "code",
      "execution_count": 39,
      "id": "55943186",
      "metadata": {
        "execution": {
          "iopub.execute_input": "2023-03-01T06:19:25.461749Z",
          "iopub.status.busy": "2023-03-01T06:19:25.461409Z",
          "iopub.status.idle": "2023-03-01T06:19:25.482903Z",
          "shell.execute_reply": "2023-03-01T06:19:25.482336Z"
        },
        "id": "55943186"
      },
      "outputs": [],
      "source": [
        "er = nx.erdos_renyi_graph(100, 0.15)\n",
        "ws = nx.watts_strogatz_graph(30, 3, 0.1)\n",
        "ba = nx.barabasi_albert_graph(100, 5)\n",
        "red = nx.random_lobster(100, 0.9, 0.9)"
      ]
    },
    {
      "cell_type": "markdown",
      "id": "3ea5a3d4",
      "metadata": {
        "id": "3ea5a3d4"
      },
      "source": [
        "# 5. Reading a graph stored in a file using common graph formats\n",
        "\n",
        "NetworkX supports many popular formats, such as edge lists, adjacency lists,\n",
        "GML, GraphML, LEDA and others."
      ]
    },
    {
      "cell_type": "code",
      "execution_count": 40,
      "id": "ba247fc1",
      "metadata": {
        "execution": {
          "iopub.execute_input": "2023-03-01T06:19:25.485942Z",
          "iopub.status.busy": "2023-03-01T06:19:25.485342Z",
          "iopub.status.idle": "2023-03-01T06:19:26.256917Z",
          "shell.execute_reply": "2023-03-01T06:19:26.256142Z"
        },
        "id": "ba247fc1"
      },
      "outputs": [],
      "source": [
        "nx.write_gml(red, \"path.to.file\")\n",
        "mygraph = nx.read_gml(\"path.to.file\")"
      ]
    },
    {
      "cell_type": "markdown",
      "id": "26b19b43",
      "metadata": {
        "id": "26b19b43"
      },
      "source": [
        "For details on graph formats see Reading and writing graphs\n",
        "and for graph generator functions see Graph generators\n",
        "\n",
        " Analyzing graphs\n",
        "\n",
        "The structure of `G` can be analyzed using various graph-theoretic\n",
        "functions such as:"
      ]
    },
    {
      "cell_type": "code",
      "execution_count": 41,
      "id": "e58a7f97",
      "metadata": {
        "execution": {
          "iopub.execute_input": "2023-03-01T06:19:26.260867Z",
          "iopub.status.busy": "2023-03-01T06:19:26.260347Z",
          "iopub.status.idle": "2023-03-01T06:19:26.268748Z",
          "shell.execute_reply": "2023-03-01T06:19:26.268139Z"
        },
        "colab": {
          "base_uri": "https://localhost:8080/"
        },
        "id": "e58a7f97",
        "outputId": "a3e72ed8-7b66-403b-e0db-cf64ce51cc44"
      },
      "outputs": [
        {
          "output_type": "execute_result",
          "data": {
            "text/plain": [
              "{1: 0, 2: 0, 3: 0, 'spam': 0}"
            ]
          },
          "metadata": {},
          "execution_count": 41
        }
      ],
      "source": [
        "G = nx.Graph()\n",
        "G.add_edges_from([(1, 2), (1, 3)])\n",
        "G.add_node(\"spam\")       # adds node \"spam\"\n",
        "list(nx.connected_components(G))\n",
        "sorted(d for n, d in G.degree())\n",
        "nx.clustering(G)"
      ]
    },
    {
      "cell_type": "markdown",
      "id": "2cf85e4a",
      "metadata": {
        "id": "2cf85e4a"
      },
      "source": [
        "Some functions with large output iterate over (node, value) 2-tuples.\n",
        "These are easily stored in a [dict](https://docs.python.org/3/library/stdtypes.html#dict) structure if you desire."
      ]
    },
    {
      "cell_type": "code",
      "execution_count": 42,
      "id": "fdffac7a",
      "metadata": {
        "execution": {
          "iopub.execute_input": "2023-03-01T06:19:26.271804Z",
          "iopub.status.busy": "2023-03-01T06:19:26.271304Z",
          "iopub.status.idle": "2023-03-01T06:19:26.277077Z",
          "shell.execute_reply": "2023-03-01T06:19:26.276436Z"
        },
        "colab": {
          "base_uri": "https://localhost:8080/"
        },
        "id": "fdffac7a",
        "outputId": "f2146c37-9883-4a44-b33e-2f2ed2b1c034"
      },
      "outputs": [
        {
          "output_type": "execute_result",
          "data": {
            "text/plain": [
              "{3: [3], 1: [3, 1], 2: [3, 1, 2]}"
            ]
          },
          "metadata": {},
          "execution_count": 42
        }
      ],
      "source": [
        "sp = dict(nx.all_pairs_shortest_path(G))\n",
        "sp[3]"
      ]
    },
    {
      "cell_type": "markdown",
      "id": "5ed44550",
      "metadata": {
        "id": "5ed44550"
      },
      "source": [
        "See Algorithms for details on graph algorithms\n",
        "supported.\n",
        "\n",
        "# Drawing graphs\n",
        "\n",
        "NetworkX is not primarily a graph drawing package but basic drawing with\n",
        "Matplotlib as well as an interface to use the open source Graphviz software\n",
        "package are included.  These are part of the networkx.drawing\n",
        "module and will be imported if possible.\n",
        "\n",
        "First import Matplotlib’s plot interface (pylab works too)"
      ]
    },
    {
      "cell_type": "code",
      "execution_count": 43,
      "id": "ebde2ca6",
      "metadata": {
        "execution": {
          "iopub.execute_input": "2023-03-01T06:19:26.280072Z",
          "iopub.status.busy": "2023-03-01T06:19:26.279533Z",
          "iopub.status.idle": "2023-03-01T06:19:26.661033Z",
          "shell.execute_reply": "2023-03-01T06:19:26.660278Z"
        },
        "id": "ebde2ca6"
      },
      "outputs": [],
      "source": [
        "import matplotlib.pyplot as plt"
      ]
    },
    {
      "cell_type": "markdown",
      "id": "f266a124",
      "metadata": {
        "id": "f266a124"
      },
      "source": [
        "To test if the import of `nx_pylab` was successful draw `G`\n",
        "using one of"
      ]
    },
    {
      "cell_type": "code",
      "execution_count": 44,
      "id": "98d54910",
      "metadata": {
        "execution": {
          "iopub.execute_input": "2023-03-01T06:19:26.664514Z",
          "iopub.status.busy": "2023-03-01T06:19:26.663987Z",
          "iopub.status.idle": "2023-03-01T06:19:26.899516Z",
          "shell.execute_reply": "2023-03-01T06:19:26.898832Z"
        },
        "colab": {
          "base_uri": "https://localhost:8080/",
          "height": 248
        },
        "id": "98d54910",
        "outputId": "f377333e-a852-49ae-d0e7-9bb6fd34a50e"
      },
      "outputs": [
        {
          "output_type": "display_data",
          "data": {
            "text/plain": [
              "<Figure size 432x288 with 2 Axes>"
            ],
            "image/png": "[encoded data removed]"
          },
          "metadata": {}
        }
      ],
      "source": [
        "G = nx.petersen_graph()\n",
        "subax1 = plt.subplot(121)\n",
        "nx.draw(G, with_labels=True, font_weight='bold')\n",
        "subax2 = plt.subplot(122)\n",
        "nx.draw_shell(G, nlist=[range(5, 10), range(5)], with_labels=True, font_weight='bold')"
      ]
    },
    {
      "cell_type": "markdown",
      "id": "c1513db3",
      "metadata": {
        "id": "c1513db3"
      },
      "source": [
        "when drawing to an interactive display.  Note that you may need to issue a\n",
        "Matplotlib"
      ]
    },
    {
      "cell_type": "code",
      "execution_count": 45,
      "id": "df634320",
      "metadata": {
        "execution": {
          "iopub.execute_input": "2023-03-01T06:19:26.903154Z",
          "iopub.status.busy": "2023-03-01T06:19:26.902519Z",
          "iopub.status.idle": "2023-03-01T06:19:26.905752Z",
          "shell.execute_reply": "2023-03-01T06:19:26.905244Z"
        },
        "id": "df634320"
      },
      "outputs": [],
      "source": [
        "plt.show()"
      ]
    },
    {
      "cell_type": "markdown",
      "id": "a28cfcfe",
      "metadata": {
        "id": "a28cfcfe"
      },
      "source": [
        "command if you are not using matplotlib in interactive mode."
      ]
    },
    {
      "cell_type": "code",
      "execution_count": 46,
      "id": "99e7c75f",
      "metadata": {
        "execution": {
          "iopub.execute_input": "2023-03-01T06:19:26.908370Z",
          "iopub.status.busy": "2023-03-01T06:19:26.907950Z",
          "iopub.status.idle": "2023-03-01T06:19:27.248803Z",
          "shell.execute_reply": "2023-03-01T06:19:27.247986Z"
        },
        "colab": {
          "base_uri": "https://localhost:8080/",
          "height": 248
        },
        "id": "99e7c75f",
        "outputId": "139d6af5-42be-495c-e95f-1a2ccdb290dc"
      },
      "outputs": [
        {
          "output_type": "display_data",
          "data": {
            "text/plain": [
              "<Figure size 432x288 with 4 Axes>"
            ],
            "image/png": "[encoded data removed]"
          },
          "metadata": {}
        }
      ],
      "source": [
        "options = {\n",
        "    'node_color': 'black',\n",
        "    'node_size': 100,\n",
        "    'width': 3,\n",
        "}\n",
        "subax1 = plt.subplot(221)\n",
        "nx.draw_random(G, **options)\n",
        "subax2 = plt.subplot(222)\n",
        "nx.draw_circular(G, **options)\n",
        "subax3 = plt.subplot(223)\n",
        "nx.draw_spectral(G, **options)\n",
        "subax4 = plt.subplot(224)\n",
        "nx.draw_shell(G, nlist=[range(5,10), range(5)], **options)"
      ]
    },
    {
      "cell_type": "markdown",
      "id": "89a0fb1e",
      "metadata": {
        "id": "89a0fb1e"
      },
      "source": [
        "You can find additional options via `draw_networkx()` and\n",
        "layouts via the `layout module`.\n",
        "You can use multiple shells with `draw_shell()`."
      ]
    },
    {
      "cell_type": "code",
      "execution_count": 47,
      "id": "c61b3d68",
      "metadata": {
        "execution": {
          "iopub.execute_input": "2023-03-01T06:19:27.252062Z",
          "iopub.status.busy": "2023-03-01T06:19:27.251477Z",
          "iopub.status.idle": "2023-03-01T06:19:27.371535Z",
          "shell.execute_reply": "2023-03-01T06:19:27.370901Z"
        },
        "colab": {
          "base_uri": "https://localhost:8080/",
          "height": 319
        },
        "id": "c61b3d68",
        "outputId": "f43bc0ea-e6f8-4454-bb7d-391ee18a1052"
      },
      "outputs": [
        {
          "output_type": "display_data",
          "data": {
            "text/plain": [
              "<Figure size 432x288 with 1 Axes>"
            ],
            "image/png": "[encoded data removed]"
          },
          "metadata": {}
        }
      ],
      "source": [
        "G = nx.dodecahedral_graph()\n",
        "shells = [[2, 3, 4, 5, 6], [8, 1, 0, 19, 18, 17, 16, 15, 14, 7], [9, 10, 11, 12, 13]]\n",
        "nx.draw_shell(G, nlist=shells, **options)"
      ]
    },
    {
      "cell_type": "markdown",
      "id": "0320ab6a",
      "metadata": {
        "id": "0320ab6a"
      },
      "source": [
        "To save drawings to a file, use, for example"
      ]
    },
    {
      "cell_type": "code",
      "execution_count": 48,
      "id": "d9be65b4",
      "metadata": {
        "execution": {
          "iopub.execute_input": "2023-03-01T06:19:27.374395Z",
          "iopub.status.busy": "2023-03-01T06:19:27.374015Z",
          "iopub.status.idle": "2023-03-01T06:19:27.530941Z",
          "shell.execute_reply": "2023-03-01T06:19:27.530375Z"
        },
        "colab": {
          "base_uri": "https://localhost:8080/",
          "height": 319
        },
        "id": "d9be65b4",
        "outputId": "3732ff4e-83cb-4905-c4ea-f09803ea510f"
      },
      "outputs": [
        {
          "output_type": "display_data",
          "data": {
            "text/plain": [
              "<Figure size 432x288 with 1 Axes>"
            ],
            "image/png": "[encoded data removed]"
          },
          "metadata": {}
        }
      ],
      "source": [
        "nx.draw(G)\n",
        "plt.savefig(\"path.png\")"
      ]
    },
    {
      "cell_type": "markdown",
      "id": "ab51a9a4",
      "metadata": {
        "id": "ab51a9a4"
      },
      "source": [
        "See Drawing for additional details.\n",
        "\n",
        "# NX-Guides\n",
        "\n",
        "If you are interested in learning more about NetworkX, graph theory and network analysis\n",
        "then you should check out [nx-guides](https://networkx.org/nx-guides/index.html). There you can find tutorials,\n",
        "real-world applications and in-depth examinations of graphs and network algorithms.\n",
        "All the material is official and was developed and curated by the NetworkX community."
      ]
    }
  ],
  "metadata": {
    "language_info": {
      "name": "python"
    },
    "colab": {
      "provenance": []
    },
    "kernelspec": {
      "name": "python3",
      "display_name": "Python 3"
    },
    "gpuClass": "standard",
    "accelerator": "GPU"
  },
  "nbformat": 4,
  "nbformat_minor": 5
}