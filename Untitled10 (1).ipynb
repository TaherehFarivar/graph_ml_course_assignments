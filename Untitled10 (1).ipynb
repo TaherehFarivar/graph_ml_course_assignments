{
  "nbformat": 4,
  "nbformat_minor": 0,
  "metadata": {
    "colab": {
      "provenance": [],
      "gpuType": "T4"
    },
    "kernelspec": {
      "name": "python3",
      "display_name": "Python 3"
    },
    "language_info": {
      "name": "python"
    },
    "accelerator": "GPU",
    "gpuClass": "standard"
  },
  "cells": [
    {
      "cell_type": "markdown",
      "source": [
        "# install\n"
      ],
      "metadata": {
        "id": "C4rHQvtL3mys"
      }
    },
    {
      "cell_type": "code",
      "execution_count": 1,
      "metadata": {
        "colab": {
          "base_uri": "https://localhost:8080/"
        },
        "id": "uNrNF_0c0RDQ",
        "outputId": "feec8bf0-2452-496f-8316-a3393c614478"
      },
      "outputs": [
        {
          "output_type": "stream",
          "name": "stdout",
          "text": [
            "Looking in indexes: https://pypi.org/simple, https://us-python.pkg.dev/colab-wheels/public/simple/\n",
            "Looking in links: https://data.dgl.ai/wheels/repo.html\n",
            "Collecting dgl\n",
            "  Downloading dgl-1.1.0-cp310-cp310-manylinux1_x86_64.whl (5.9 MB)\n",
            "\u001b[2K     \u001b[90m━━━━━━━━━━━━━━━━━━━━━━━━━━━━━━━━━━━━━━━━\u001b[0m \u001b[32m5.9/5.9 MB\u001b[0m \u001b[31m54.4 MB/s\u001b[0m eta \u001b[36m0:00:00\u001b[0m\n",
            "\u001b[?25hRequirement already satisfied: numpy>=1.14.0 in /usr/local/lib/python3.10/dist-packages (from dgl) (1.22.4)\n",
            "Requirement already satisfied: scipy>=1.1.0 in /usr/local/lib/python3.10/dist-packages (from dgl) (1.10.1)\n",
            "Requirement already satisfied: networkx>=2.1 in /usr/local/lib/python3.10/dist-packages (from dgl) (3.1)\n",
            "Requirement already satisfied: requests>=2.19.0 in /usr/local/lib/python3.10/dist-packages (from dgl) (2.27.1)\n",
            "Requirement already satisfied: tqdm in /usr/local/lib/python3.10/dist-packages (from dgl) (4.65.0)\n",
            "Requirement already satisfied: psutil>=5.8.0 in /usr/local/lib/python3.10/dist-packages (from dgl) (5.9.5)\n",
            "Requirement already satisfied: urllib3<1.27,>=1.21.1 in /usr/local/lib/python3.10/dist-packages (from requests>=2.19.0->dgl) (1.26.15)\n",
            "Requirement already satisfied: certifi>=2017.4.17 in /usr/local/lib/python3.10/dist-packages (from requests>=2.19.0->dgl) (2022.12.7)\n",
            "Requirement already satisfied: charset-normalizer~=2.0.0 in /usr/local/lib/python3.10/dist-packages (from requests>=2.19.0->dgl) (2.0.12)\n",
            "Requirement already satisfied: idna<4,>=2.5 in /usr/local/lib/python3.10/dist-packages (from requests>=2.19.0->dgl) (3.4)\n",
            "Installing collected packages: dgl\n",
            "Successfully installed dgl-1.1.0\n"
          ]
        }
      ],
      "source": [
        "pip install  dgl -f https://data.dgl.ai/wheels/repo.html      "
      ]
    },
    {
      "cell_type": "code",
      "source": [
        "pip install  dglgo -f https://data.dgl.ai/wheels-test/repo.html"
      ],
      "metadata": {
        "colab": {
          "base_uri": "https://localhost:8080/"
        },
        "id": "rR274iqq0cXI",
        "outputId": "64cc875a-1827-4a2a-af6d-ea467cb5b520"
      },
      "execution_count": 2,
      "outputs": [
        {
          "output_type": "stream",
          "name": "stdout",
          "text": [
            "Looking in indexes: https://pypi.org/simple, https://us-python.pkg.dev/colab-wheels/public/simple/\n",
            "Looking in links: https://data.dgl.ai/wheels-test/repo.html\n",
            "Collecting dglgo\n",
            "  Downloading dglgo-0.0.2-py3-none-any.whl (63 kB)\n",
            "\u001b[2K     \u001b[90m━━━━━━━━━━━━━━━━━━━━━━━━━━━━━━━━━━━━━━━━\u001b[0m \u001b[32m63.5/63.5 kB\u001b[0m \u001b[31m5.2 MB/s\u001b[0m eta \u001b[36m0:00:00\u001b[0m\n",
            "\u001b[?25hRequirement already satisfied: typer>=0.4.0 in /usr/local/lib/python3.10/dist-packages (from dglgo) (0.7.0)\n",
            "Collecting isort>=5.10.1 (from dglgo)\n",
            "  Downloading isort-5.12.0-py3-none-any.whl (91 kB)\n",
            "\u001b[2K     \u001b[90m━━━━━━━━━━━━━━━━━━━━━━━━━━━━━━━━━━━━━━━━\u001b[0m \u001b[32m91.2/91.2 kB\u001b[0m \u001b[31m10.1 MB/s\u001b[0m eta \u001b[36m0:00:00\u001b[0m\n",
            "\u001b[?25hCollecting autopep8>=1.6.0 (from dglgo)\n",
            "  Downloading autopep8-2.0.2-py2.py3-none-any.whl (45 kB)\n",
            "\u001b[2K     \u001b[90m━━━━━━━━━━━━━━━━━━━━━━━━━━━━━━━━━━━━━━━━\u001b[0m \u001b[32m45.2/45.2 kB\u001b[0m \u001b[31m5.2 MB/s\u001b[0m eta \u001b[36m0:00:00\u001b[0m\n",
            "\u001b[?25hCollecting numpydoc>=1.1.0 (from dglgo)\n",
            "  Downloading numpydoc-1.5.0-py3-none-any.whl (52 kB)\n",
            "\u001b[2K     \u001b[90m━━━━━━━━━━━━━━━━━━━━━━━━━━━━━━━━━━━━━━━━\u001b[0m \u001b[32m52.4/52.4 kB\u001b[0m \u001b[31m7.5 MB/s\u001b[0m eta \u001b[36m0:00:00\u001b[0m\n",
            "\u001b[?25hRequirement already satisfied: pydantic>=1.9.0 in /usr/local/lib/python3.10/dist-packages (from dglgo) (1.10.7)\n",
            "Collecting ruamel.yaml>=0.17.20 (from dglgo)\n",
            "  Downloading ruamel.yaml-0.17.26-py3-none-any.whl (109 kB)\n",
            "\u001b[2K     \u001b[90m━━━━━━━━━━━━━━━━━━━━━━━━━━━━━━━━━━━━━━\u001b[0m \u001b[32m109.1/109.1 kB\u001b[0m \u001b[31m17.0 MB/s\u001b[0m eta \u001b[36m0:00:00\u001b[0m\n",
            "\u001b[?25hRequirement already satisfied: PyYAML>=5.1 in /usr/local/lib/python3.10/dist-packages (from dglgo) (6.0)\n",
            "Collecting ogb>=1.3.3 (from dglgo)\n",
            "  Downloading ogb-1.3.6-py3-none-any.whl (78 kB)\n",
            "\u001b[2K     \u001b[90m━━━━━━━━━━━━━━━━━━━━━━━━━━━━━━━━━━━━━━━━\u001b[0m \u001b[32m78.8/78.8 kB\u001b[0m \u001b[31m11.3 MB/s\u001b[0m eta \u001b[36m0:00:00\u001b[0m\n",
            "\u001b[?25hCollecting rdkit-pypi (from dglgo)\n",
            "  Downloading rdkit_pypi-2022.9.5-cp310-cp310-manylinux_2_17_x86_64.manylinux2014_x86_64.whl (29.4 MB)\n",
            "\u001b[2K     \u001b[90m━━━━━━━━━━━━━━━━━━━━━━━━━━━━━━━━━━━━━━━━\u001b[0m \u001b[32m29.4/29.4 MB\u001b[0m \u001b[31m53.2 MB/s\u001b[0m eta \u001b[36m0:00:00\u001b[0m\n",
            "\u001b[?25hRequirement already satisfied: scikit-learn>=0.20.0 in /usr/local/lib/python3.10/dist-packages (from dglgo) (1.2.2)\n",
            "Collecting pycodestyle>=2.10.0 (from autopep8>=1.6.0->dglgo)\n",
            "  Downloading pycodestyle-2.10.0-py2.py3-none-any.whl (41 kB)\n",
            "\u001b[2K     \u001b[90m━━━━━━━━━━━━━━━━━━━━━━━━━━━━━━━━━━━━━━━━\u001b[0m \u001b[32m41.3/41.3 kB\u001b[0m \u001b[31m5.9 MB/s\u001b[0m eta \u001b[36m0:00:00\u001b[0m\n",
            "\u001b[?25hRequirement already satisfied: tomli in /usr/local/lib/python3.10/dist-packages (from autopep8>=1.6.0->dglgo) (2.0.1)\n",
            "Collecting sphinx>=4.2 (from numpydoc>=1.1.0->dglgo)\n",
            "  Downloading sphinx-7.0.1-py3-none-any.whl (3.0 MB)\n",
            "\u001b[2K     \u001b[90m━━━━━━━━━━━━━━━━━━━━━━━━━━━━━━━━━━━━━━━━\u001b[0m \u001b[32m3.0/3.0 MB\u001b[0m \u001b[31m55.9 MB/s\u001b[0m eta \u001b[36m0:00:00\u001b[0m\n",
            "\u001b[?25hRequirement already satisfied: Jinja2>=2.10 in /usr/local/lib/python3.10/dist-packages (from numpydoc>=1.1.0->dglgo) (3.1.2)\n",
            "Requirement already satisfied: torch>=1.6.0 in /usr/local/lib/python3.10/dist-packages (from ogb>=1.3.3->dglgo) (2.0.1+cu118)\n",
            "Requirement already satisfied: numpy>=1.16.0 in /usr/local/lib/python3.10/dist-packages (from ogb>=1.3.3->dglgo) (1.22.4)\n",
            "Requirement already satisfied: tqdm>=4.29.0 in /usr/local/lib/python3.10/dist-packages (from ogb>=1.3.3->dglgo) (4.65.0)\n",
            "Requirement already satisfied: pandas>=0.24.0 in /usr/local/lib/python3.10/dist-packages (from ogb>=1.3.3->dglgo) (1.5.3)\n",
            "Requirement already satisfied: six>=1.12.0 in /usr/local/lib/python3.10/dist-packages (from ogb>=1.3.3->dglgo) (1.16.0)\n",
            "Requirement already satisfied: urllib3>=1.24.0 in /usr/local/lib/python3.10/dist-packages (from ogb>=1.3.3->dglgo) (1.26.15)\n",
            "Collecting outdated>=0.2.0 (from ogb>=1.3.3->dglgo)\n",
            "  Downloading outdated-0.2.2-py2.py3-none-any.whl (7.5 kB)\n",
            "Requirement already satisfied: typing-extensions>=4.2.0 in /usr/local/lib/python3.10/dist-packages (from pydantic>=1.9.0->dglgo) (4.5.0)\n",
            "Collecting ruamel.yaml.clib>=0.2.7 (from ruamel.yaml>=0.17.20->dglgo)\n",
            "  Downloading ruamel.yaml.clib-0.2.7-cp310-cp310-manylinux_2_17_x86_64.manylinux2014_x86_64.manylinux_2_24_x86_64.whl (485 kB)\n",
            "\u001b[2K     \u001b[90m━━━━━━━━━━━━━━━━━━━━━━━━━━━━━━━━━━━━━━\u001b[0m \u001b[32m485.6/485.6 kB\u001b[0m \u001b[31m50.8 MB/s\u001b[0m eta \u001b[36m0:00:00\u001b[0m\n",
            "\u001b[?25hRequirement already satisfied: scipy>=1.3.2 in /usr/local/lib/python3.10/dist-packages (from scikit-learn>=0.20.0->dglgo) (1.10.1)\n",
            "Requirement already satisfied: joblib>=1.1.1 in /usr/local/lib/python3.10/dist-packages (from scikit-learn>=0.20.0->dglgo) (1.2.0)\n",
            "Requirement already satisfied: threadpoolctl>=2.0.0 in /usr/local/lib/python3.10/dist-packages (from scikit-learn>=0.20.0->dglgo) (3.1.0)\n",
            "Requirement already satisfied: click<9.0.0,>=7.1.1 in /usr/local/lib/python3.10/dist-packages (from typer>=0.4.0->dglgo) (8.1.3)\n",
            "Requirement already satisfied: Pillow in /usr/local/lib/python3.10/dist-packages (from rdkit-pypi->dglgo) (8.4.0)\n",
            "Requirement already satisfied: MarkupSafe>=2.0 in /usr/local/lib/python3.10/dist-packages (from Jinja2>=2.10->numpydoc>=1.1.0->dglgo) (2.1.2)\n",
            "Requirement already satisfied: setuptools>=44 in /usr/local/lib/python3.10/dist-packages (from outdated>=0.2.0->ogb>=1.3.3->dglgo) (67.7.2)\n",
            "Collecting littleutils (from outdated>=0.2.0->ogb>=1.3.3->dglgo)\n",
            "  Downloading littleutils-0.2.2.tar.gz (6.6 kB)\n",
            "  Preparing metadata (setup.py) ... \u001b[?25l\u001b[?25hdone\n",
            "Requirement already satisfied: requests in /usr/local/lib/python3.10/dist-packages (from outdated>=0.2.0->ogb>=1.3.3->dglgo) (2.27.1)\n",
            "Requirement already satisfied: python-dateutil>=2.8.1 in /usr/local/lib/python3.10/dist-packages (from pandas>=0.24.0->ogb>=1.3.3->dglgo) (2.8.2)\n",
            "Requirement already satisfied: pytz>=2020.1 in /usr/local/lib/python3.10/dist-packages (from pandas>=0.24.0->ogb>=1.3.3->dglgo) (2022.7.1)\n",
            "Requirement already satisfied: sphinxcontrib-applehelp in /usr/local/lib/python3.10/dist-packages (from sphinx>=4.2->numpydoc>=1.1.0->dglgo) (1.0.4)\n",
            "Requirement already satisfied: sphinxcontrib-devhelp in /usr/local/lib/python3.10/dist-packages (from sphinx>=4.2->numpydoc>=1.1.0->dglgo) (1.0.2)\n",
            "Requirement already satisfied: sphinxcontrib-jsmath in /usr/local/lib/python3.10/dist-packages (from sphinx>=4.2->numpydoc>=1.1.0->dglgo) (1.0.1)\n",
            "Requirement already satisfied: sphinxcontrib-htmlhelp>=2.0.0 in /usr/local/lib/python3.10/dist-packages (from sphinx>=4.2->numpydoc>=1.1.0->dglgo) (2.0.1)\n",
            "Requirement already satisfied: sphinxcontrib-serializinghtml>=1.1.5 in /usr/local/lib/python3.10/dist-packages (from sphinx>=4.2->numpydoc>=1.1.0->dglgo) (1.1.5)\n",
            "Requirement already satisfied: sphinxcontrib-qthelp in /usr/local/lib/python3.10/dist-packages (from sphinx>=4.2->numpydoc>=1.1.0->dglgo) (1.0.3)\n",
            "Requirement already satisfied: Pygments>=2.13 in /usr/local/lib/python3.10/dist-packages (from sphinx>=4.2->numpydoc>=1.1.0->dglgo) (2.14.0)\n",
            "Collecting docutils<0.21,>=0.18.1 (from sphinx>=4.2->numpydoc>=1.1.0->dglgo)\n",
            "  Downloading docutils-0.20.1-py3-none-any.whl (572 kB)\n",
            "\u001b[2K     \u001b[90m━━━━━━━━━━━━━━━━━━━━━━━━━━━━━━━━━━━━━━\u001b[0m \u001b[32m572.7/572.7 kB\u001b[0m \u001b[31m63.2 MB/s\u001b[0m eta \u001b[36m0:00:00\u001b[0m\n",
            "\u001b[?25hRequirement already satisfied: snowballstemmer>=2.0 in /usr/local/lib/python3.10/dist-packages (from sphinx>=4.2->numpydoc>=1.1.0->dglgo) (2.2.0)\n",
            "Requirement already satisfied: babel>=2.9 in /usr/local/lib/python3.10/dist-packages (from sphinx>=4.2->numpydoc>=1.1.0->dglgo) (2.12.1)\n",
            "Requirement already satisfied: alabaster<0.8,>=0.7 in /usr/local/lib/python3.10/dist-packages (from sphinx>=4.2->numpydoc>=1.1.0->dglgo) (0.7.13)\n",
            "Requirement already satisfied: imagesize>=1.3 in /usr/local/lib/python3.10/dist-packages (from sphinx>=4.2->numpydoc>=1.1.0->dglgo) (1.4.1)\n",
            "Requirement already satisfied: packaging>=21.0 in /usr/local/lib/python3.10/dist-packages (from sphinx>=4.2->numpydoc>=1.1.0->dglgo) (23.1)\n",
            "Requirement already satisfied: filelock in /usr/local/lib/python3.10/dist-packages (from torch>=1.6.0->ogb>=1.3.3->dglgo) (3.12.0)\n",
            "Requirement already satisfied: sympy in /usr/local/lib/python3.10/dist-packages (from torch>=1.6.0->ogb>=1.3.3->dglgo) (1.11.1)\n",
            "Requirement already satisfied: networkx in /usr/local/lib/python3.10/dist-packages (from torch>=1.6.0->ogb>=1.3.3->dglgo) (3.1)\n",
            "Requirement already satisfied: triton==2.0.0 in /usr/local/lib/python3.10/dist-packages (from torch>=1.6.0->ogb>=1.3.3->dglgo) (2.0.0)\n",
            "Requirement already satisfied: cmake in /usr/local/lib/python3.10/dist-packages (from triton==2.0.0->torch>=1.6.0->ogb>=1.3.3->dglgo) (3.25.2)\n",
            "Requirement already satisfied: lit in /usr/local/lib/python3.10/dist-packages (from triton==2.0.0->torch>=1.6.0->ogb>=1.3.3->dglgo) (16.0.5)\n",
            "Requirement already satisfied: certifi>=2017.4.17 in /usr/local/lib/python3.10/dist-packages (from requests->outdated>=0.2.0->ogb>=1.3.3->dglgo) (2022.12.7)\n",
            "Requirement already satisfied: charset-normalizer~=2.0.0 in /usr/local/lib/python3.10/dist-packages (from requests->outdated>=0.2.0->ogb>=1.3.3->dglgo) (2.0.12)\n",
            "Requirement already satisfied: idna<4,>=2.5 in /usr/local/lib/python3.10/dist-packages (from requests->outdated>=0.2.0->ogb>=1.3.3->dglgo) (3.4)\n",
            "Requirement already satisfied: mpmath>=0.19 in /usr/local/lib/python3.10/dist-packages (from sympy->torch>=1.6.0->ogb>=1.3.3->dglgo) (1.3.0)\n",
            "Building wheels for collected packages: littleutils\n",
            "  Building wheel for littleutils (setup.py) ... \u001b[?25l\u001b[?25hdone\n",
            "  Created wheel for littleutils: filename=littleutils-0.2.2-py3-none-any.whl size=7029 sha256=20c87b07052a6cf94e5e0c0212ad0510864129b0660f0a6daf6af3e813fc73aa\n",
            "  Stored in directory: /root/.cache/pip/wheels/3d/fe/b0/27a9892da57472e538c7452a721a9cf463cc03cf7379889266\n",
            "Successfully built littleutils\n",
            "Installing collected packages: littleutils, ruamel.yaml.clib, rdkit-pypi, pycodestyle, isort, docutils, sphinx, ruamel.yaml, outdated, autopep8, numpydoc, ogb, dglgo\n",
            "  Attempting uninstall: docutils\n",
            "    Found existing installation: docutils 0.16\n",
            "    Uninstalling docutils-0.16:\n",
            "      Successfully uninstalled docutils-0.16\n",
            "  Attempting uninstall: sphinx\n",
            "    Found existing installation: Sphinx 3.5.4\n",
            "    Uninstalling Sphinx-3.5.4:\n",
            "      Successfully uninstalled Sphinx-3.5.4\n",
            "Successfully installed autopep8-2.0.2 dglgo-0.0.2 docutils-0.20.1 isort-5.12.0 littleutils-0.2.2 numpydoc-1.5.0 ogb-1.3.6 outdated-0.2.2 pycodestyle-2.10.0 rdkit-pypi-2022.9.5 ruamel.yaml-0.17.26 ruamel.yaml.clib-0.2.7 sphinx-7.0.1\n"
          ]
        }
      ]
    },
    {
      "cell_type": "markdown",
      "source": [
        "# Querying graph structure"
      ],
      "metadata": {
        "id": "jYPj6Efs4DXy"
      }
    },
    {
      "cell_type": "code",
      "source": [
        "import dgl\n",
        "import torch"
      ],
      "metadata": {
        "colab": {
          "base_uri": "https://localhost:8080/"
        },
        "id": "ZXHE2I-k02Ry",
        "outputId": "a0899726-92da-4b66-a8c4-bf98e13aba5a"
      },
      "execution_count": 3,
      "outputs": [
        {
          "output_type": "stream",
          "name": "stderr",
          "text": [
            "DGL backend not selected or invalid.  Assuming PyTorch for now.\n"
          ]
        },
        {
          "output_type": "stream",
          "name": "stdout",
          "text": [
            "Setting the default backend to \"pytorch\". You can change it in the ~/.dgl/config.json file or export the DGLBACKEND environment variable.  Valid options are: pytorch, mxnet, tensorflow (all lowercase)\n"
          ]
        }
      ]
    },
    {
      "cell_type": "code",
      "source": [
        "g = dgl.heterograph({\n",
        "    ('user', 'follows', 'user'): (torch.tensor([0, 1]), torch.tensor([1, 2])),\n",
        "    ('user', 'plays', 'game'): (torch.tensor([3, 4]), torch.tensor([5, 6]))\n",
        "})"
      ],
      "metadata": {
        "id": "rM_d5Rr61KXk"
      },
      "execution_count": 5,
      "outputs": []
    },
    {
      "cell_type": "code",
      "source": [
        "g.num_nodes('user')\n",
        "g.num_nodes('game')\n",
        "g.num_nodes()"
      ],
      "metadata": {
        "colab": {
          "base_uri": "https://localhost:8080/"
        },
        "id": "dzyT_qB11iOZ",
        "outputId": "f3a31a38-11cb-4e1b-cf30-313e8094dd88"
      },
      "execution_count": 6,
      "outputs": [
        {
          "output_type": "execute_result",
          "data": {
            "text/plain": [
              "12"
            ]
          },
          "metadata": {},
          "execution_count": 6
        }
      ]
    },
    {
      "cell_type": "code",
      "source": [
        "g = dgl.heterograph({\n",
        "    ('user', 'follows', 'user'): (torch.tensor([0, 1]), torch.tensor([1, 2])),\n",
        "    ('user', 'follows', 'game'): (torch.tensor([0, 1, 2]), torch.tensor([1, 2, 3])),\n",
        "    ('user', 'plays', 'game'): (torch.tensor([1, 3]), torch.tensor([2, 3]))\n",
        "})"
      ],
      "metadata": {
        "id": "K6wcTL39JncX"
      },
      "execution_count": 7,
      "outputs": []
    },
    {
      "cell_type": "code",
      "source": [
        "g.num_edges('plays')\n",
        "g.num_edges()"
      ],
      "metadata": {
        "colab": {
          "base_uri": "https://localhost:8080/"
        },
        "id": "Z83YlmzoJnnp",
        "outputId": "c5c6b351-84df-4cbd-c80c-038736077209"
      },
      "execution_count": 8,
      "outputs": [
        {
          "output_type": "execute_result",
          "data": {
            "text/plain": [
              "7"
            ]
          },
          "metadata": {},
          "execution_count": 8
        }
      ]
    },
    {
      "cell_type": "code",
      "source": [
        "g.num_edges(('user', 'follows', 'user'))\n",
        "g.num_edges(('user', 'follows', 'game'))"
      ],
      "metadata": {
        "colab": {
          "base_uri": "https://localhost:8080/"
        },
        "id": "45C9WZJyJnxJ",
        "outputId": "679f9b02-ea9f-4478-81c7-dcd18d109c66"
      },
      "execution_count": 9,
      "outputs": [
        {
          "output_type": "execute_result",
          "data": {
            "text/plain": [
              "3"
            ]
          },
          "metadata": {},
          "execution_count": 9
        }
      ]
    },
    {
      "cell_type": "code",
      "source": [
        "g = dgl.graph((torch.tensor([0, 1]), torch.tensor([1, 2])))\n",
        "g.num_src_nodes()"
      ],
      "metadata": {
        "colab": {
          "base_uri": "https://localhost:8080/"
        },
        "id": "jt7l8IsHNbnL",
        "outputId": "fed1560f-1f47-405c-bfc7-76a99b5c9f5e"
      },
      "execution_count": 10,
      "outputs": [
        {
          "output_type": "execute_result",
          "data": {
            "text/plain": [
              "3"
            ]
          },
          "metadata": {},
          "execution_count": 10
        }
      ]
    },
    {
      "cell_type": "code",
      "source": [
        "g = dgl.heterograph({\n",
        "    ('developer', 'develops', 'game'): (torch.tensor([0, 1]), torch.tensor([1, 2])),\n",
        "    ('user', 'plays', 'game'): (torch.tensor([3, 4]), torch.tensor([5, 6]))})"
      ],
      "metadata": {
        "id": "b9jZcbEbQ2ZR"
      },
      "execution_count": 11,
      "outputs": []
    },
    {
      "cell_type": "code",
      "source": [
        "g.num_src_nodes('developer')\n",
        "g.num_src_nodes('user')\n",
        "g.num_src_nodes()"
      ],
      "metadata": {
        "colab": {
          "base_uri": "https://localhost:8080/"
        },
        "id": "XAFpvJn6Nbyk",
        "outputId": "428d0c61-222d-435b-de4e-0427db6ab100"
      },
      "execution_count": 12,
      "outputs": [
        {
          "output_type": "execute_result",
          "data": {
            "text/plain": [
              "7"
            ]
          },
          "metadata": {},
          "execution_count": 12
        }
      ]
    },
    {
      "cell_type": "code",
      "source": [
        "g = dgl.graph((torch.tensor([0, 1]), torch.tensor([1, 2])))\n",
        "g.num_dst_nodes()"
      ],
      "metadata": {
        "colab": {
          "base_uri": "https://localhost:8080/"
        },
        "id": "85wj397pNb80",
        "outputId": "69d1f2f6-bc6c-4577-b826-e9090f3cc706"
      },
      "execution_count": 13,
      "outputs": [
        {
          "output_type": "execute_result",
          "data": {
            "text/plain": [
              "3"
            ]
          },
          "metadata": {},
          "execution_count": 13
        }
      ]
    },
    {
      "cell_type": "code",
      "source": [
        "g = dgl.heterograph({\n",
        "    ('user', 'follows', 'user'): (torch.tensor([0, 1]), torch.tensor([1, 2])),\n",
        "    ('user', 'plays', 'game'): (torch.tensor([3, 4]), torch.tensor([5, 6]))\n",
        "})"
      ],
      "metadata": {
        "id": "aLBt9TqcNcDW"
      },
      "execution_count": 14,
      "outputs": []
    },
    {
      "cell_type": "code",
      "source": [
        "g.num_dst_nodes('user')\n",
        "g.num_dst_nodes('game')\n",
        "g.num_dst_nodes()"
      ],
      "metadata": {
        "colab": {
          "base_uri": "https://localhost:8080/"
        },
        "id": "PGITgPM7NcG9",
        "outputId": "dc3d35f2-9403-41c7-dd13-eaaf12c45066"
      },
      "execution_count": 15,
      "outputs": [
        {
          "output_type": "execute_result",
          "data": {
            "text/plain": [
              "12"
            ]
          },
          "metadata": {},
          "execution_count": 15
        }
      ]
    },
    {
      "cell_type": "code",
      "source": [
        "g = dgl.graph((torch.tensor([0, 1]), torch.tensor([1, 3])))\n",
        "g.is_multigraph\n",
        "g = dgl.graph((torch.tensor([0, 1, 1]), torch.tensor([1, 3, 3])))\n",
        "g.is_multigraph"
      ],
      "metadata": {
        "colab": {
          "base_uri": "https://localhost:8080/"
        },
        "id": "cQb954lrNcKI",
        "outputId": "341ce749-b474-415d-890c-8477f39f3b77"
      },
      "execution_count": 16,
      "outputs": [
        {
          "output_type": "execute_result",
          "data": {
            "text/plain": [
              "True"
            ]
          },
          "metadata": {},
          "execution_count": 16
        }
      ]
    },
    {
      "cell_type": "code",
      "source": [
        "g = dgl.heterograph({\n",
        "    ('user', 'follows', 'user'): (torch.tensor([0, 1]), torch.tensor([1, 2])),\n",
        "    ('user', 'follows', 'game'): (torch.tensor([0, 1, 2]), torch.tensor([1, 2, 3]))\n",
        "})\n",
        "g.is_multigraph\n",
        "g = dgl.heterograph({\n",
        "    ('user', 'follows', 'user'): (torch.tensor([0, 1, 1]), torch.tensor([1, 2, 2])),\n",
        "    ('user', 'follows', 'game'): (torch.tensor([0, 1, 2]), torch.tensor([1, 2, 3]))\n",
        "})\n",
        "g.is_multigraph"
      ],
      "metadata": {
        "colab": {
          "base_uri": "https://localhost:8080/"
        },
        "id": "5xXUVwJPNcNq",
        "outputId": "356be82f-8fe3-4c57-f671-b361537e68f3"
      },
      "execution_count": 17,
      "outputs": [
        {
          "output_type": "execute_result",
          "data": {
            "text/plain": [
              "True"
            ]
          },
          "metadata": {},
          "execution_count": 17
        }
      ]
    },
    {
      "cell_type": "code",
      "source": [
        "g = dgl.graph((torch.tensor([0, 0, 1, 1]), torch.tensor([1, 0, 2, 3])))\n",
        "g.is_homogeneous"
      ],
      "metadata": {
        "colab": {
          "base_uri": "https://localhost:8080/"
        },
        "id": "_CX5jBLHJn2c",
        "outputId": "c4e40950-aa57-49a1-ec46-56bb3d9f4e7f"
      },
      "execution_count": 18,
      "outputs": [
        {
          "output_type": "execute_result",
          "data": {
            "text/plain": [
              "True"
            ]
          },
          "metadata": {},
          "execution_count": 18
        }
      ]
    },
    {
      "cell_type": "code",
      "source": [
        "g = dgl.heterograph({\n",
        "    ('user', 'follows', 'game'): (torch.tensor([0, 1, 2]), torch.tensor([1, 2, 3]))})\n",
        "g.is_homogeneous"
      ],
      "metadata": {
        "colab": {
          "base_uri": "https://localhost:8080/"
        },
        "id": "SETM0Xd_Jn54",
        "outputId": "4d8cab0a-cd4b-4b4b-8bd3-d03d5c7688f4"
      },
      "execution_count": 19,
      "outputs": [
        {
          "output_type": "execute_result",
          "data": {
            "text/plain": [
              "False"
            ]
          },
          "metadata": {},
          "execution_count": 19
        }
      ]
    },
    {
      "cell_type": "code",
      "source": [
        "g = dgl.heterograph({\n",
        "    ('user', 'follows', 'user'): (torch.tensor([0, 1]), torch.tensor([1, 2])),\n",
        "    ('user', 'plays', 'game'): (torch.tensor([3, 4]), torch.tensor([0, 1]))\n",
        "})"
      ],
      "metadata": {
        "id": "8TVukrUXWY9h"
      },
      "execution_count": 20,
      "outputs": []
    },
    {
      "cell_type": "code",
      "source": [
        "g.has_nodes(0, 'user')\n",
        "g.has_nodes(3, 'game')\n",
        "g.has_nodes(torch.tensor([3, 0, 1]), 'game')"
      ],
      "metadata": {
        "colab": {
          "base_uri": "https://localhost:8080/"
        },
        "id": "AMy1rNJoWZJ_",
        "outputId": "192122e8-3aac-463e-ffb4-63187685d590"
      },
      "execution_count": 21,
      "outputs": [
        {
          "output_type": "execute_result",
          "data": {
            "text/plain": [
              "tensor([False,  True,  True])"
            ]
          },
          "metadata": {},
          "execution_count": 21
        }
      ]
    },
    {
      "cell_type": "code",
      "source": [
        "g = dgl.graph((torch.tensor([0, 0, 1, 1]), torch.tensor([1, 0, 2, 3])))"
      ],
      "metadata": {
        "id": "e3Fnk2hEWZMk"
      },
      "execution_count": 22,
      "outputs": []
    },
    {
      "cell_type": "code",
      "source": [
        "g.has_edges_between(1, 2)\n",
        "g.has_edges_between(torch.tensor([1, 2]), torch.tensor([2, 3]))"
      ],
      "metadata": {
        "colab": {
          "base_uri": "https://localhost:8080/"
        },
        "id": "r3y4-TsTWZPJ",
        "outputId": "f5527c27-33fa-4a49-ebeb-6c827af7c75c"
      },
      "execution_count": 23,
      "outputs": [
        {
          "output_type": "execute_result",
          "data": {
            "text/plain": [
              "tensor([ True, False])"
            ]
          },
          "metadata": {},
          "execution_count": 23
        }
      ]
    },
    {
      "cell_type": "code",
      "source": [
        "g = dgl.heterograph({\n",
        "    ('user', 'follows', 'user'): (torch.tensor([0, 1]), torch.tensor([1, 2])),\n",
        "    ('user', 'follows', 'game'): (torch.tensor([0, 1, 2]), torch.tensor([1, 2, 3])),\n",
        "    ('user', 'plays', 'game'): (torch.tensor([1, 3]), torch.tensor([2, 3]))\n",
        "})\n",
        "g.has_edges_between(torch.tensor([1, 2]), torch.tensor([2, 3]), 'plays')"
      ],
      "metadata": {
        "colab": {
          "base_uri": "https://localhost:8080/"
        },
        "id": "WvNlKNOBWZRl",
        "outputId": "58188ba1-0fe9-4849-bd6c-7d7f5d0705f1"
      },
      "execution_count": 24,
      "outputs": [
        {
          "output_type": "execute_result",
          "data": {
            "text/plain": [
              "tensor([ True, False])"
            ]
          },
          "metadata": {},
          "execution_count": 24
        }
      ]
    },
    {
      "cell_type": "code",
      "source": [
        "g.has_edges_between(torch.tensor([1, 2]), torch.tensor([2, 3]),\n",
        "                    ('user', 'follows', 'user'))\n",
        "g.has_edges_between(torch.tensor([1, 2]), torch.tensor([2, 3]),\n",
        "                    ('user', 'follows', 'game'))"
      ],
      "metadata": {
        "colab": {
          "base_uri": "https://localhost:8080/"
        },
        "id": "0P5EZccbWZU8",
        "outputId": "2186dc96-ec06-49d0-af99-6735a680f4c5"
      },
      "execution_count": 25,
      "outputs": [
        {
          "output_type": "execute_result",
          "data": {
            "text/plain": [
              "tensor([True, True])"
            ]
          },
          "metadata": {},
          "execution_count": 25
        }
      ]
    },
    {
      "cell_type": "code",
      "source": [
        "g = dgl.graph((torch.tensor([0, 0, 1, 1]), torch.tensor([1, 1, 2, 3])))"
      ],
      "metadata": {
        "id": "f0D0m9D4XIDj"
      },
      "execution_count": 26,
      "outputs": []
    },
    {
      "cell_type": "code",
      "source": [
        "g.predecessors(1)"
      ],
      "metadata": {
        "colab": {
          "base_uri": "https://localhost:8080/"
        },
        "id": "iIPDI4txXIF1",
        "outputId": "a9063fc2-14f1-441f-8fb4-2449866ea924"
      },
      "execution_count": 27,
      "outputs": [
        {
          "output_type": "execute_result",
          "data": {
            "text/plain": [
              "tensor([0, 0])"
            ]
          },
          "metadata": {},
          "execution_count": 27
        }
      ]
    },
    {
      "cell_type": "code",
      "source": [
        "hg = dgl.heterograph({\n",
        "    ('user', 'follows', 'user'): (torch.tensor([0, 1]), torch.tensor([1, 2])),\n",
        "    ('user', 'plays', 'game'): (torch.tensor([3, 4]), torch.tensor([5, 6]))\n",
        "})\n",
        "hg.predecessors(1, etype='follows')"
      ],
      "metadata": {
        "colab": {
          "base_uri": "https://localhost:8080/"
        },
        "id": "hZDAVZlTXIIH",
        "outputId": "c007e26e-005c-49c3-d3fe-568838b672d1"
      },
      "execution_count": 28,
      "outputs": [
        {
          "output_type": "execute_result",
          "data": {
            "text/plain": [
              "tensor([0])"
            ]
          },
          "metadata": {},
          "execution_count": 28
        }
      ]
    },
    {
      "cell_type": "code",
      "source": [
        "g = dgl.graph((torch.tensor([0, 0, 1, 1]), torch.tensor([1, 1, 2, 3])))"
      ],
      "metadata": {
        "id": "IUUxs-8nXIKm"
      },
      "execution_count": 29,
      "outputs": []
    },
    {
      "cell_type": "code",
      "source": [
        "g.successors(1)"
      ],
      "metadata": {
        "colab": {
          "base_uri": "https://localhost:8080/"
        },
        "id": "p4qX8px8XIMx",
        "outputId": "ec634bfa-348f-4159-c764-2d37f7143ba3"
      },
      "execution_count": 30,
      "outputs": [
        {
          "output_type": "execute_result",
          "data": {
            "text/plain": [
              "tensor([2, 3])"
            ]
          },
          "metadata": {},
          "execution_count": 30
        }
      ]
    },
    {
      "cell_type": "code",
      "source": [
        "hg = dgl.heterograph({\n",
        "    ('user', 'follows', 'user'): (torch.tensor([0, 1]), torch.tensor([1, 2])),\n",
        "    ('user', 'plays', 'game'): (torch.tensor([3, 4]), torch.tensor([5, 6]))\n",
        "})\n",
        "hg.successors(1, etype='follows')"
      ],
      "metadata": {
        "colab": {
          "base_uri": "https://localhost:8080/"
        },
        "id": "8t6XMPIvXIPO",
        "outputId": "af15cab7-afbb-44e7-87ad-4bc57f93100e"
      },
      "execution_count": 31,
      "outputs": [
        {
          "output_type": "execute_result",
          "data": {
            "text/plain": [
              "tensor([2])"
            ]
          },
          "metadata": {},
          "execution_count": 31
        }
      ]
    },
    {
      "cell_type": "code",
      "source": [
        "g = dgl.graph((torch.tensor([0, 0, 1, 1, 1]), torch.tensor([1, 0, 2, 3, 2])))"
      ],
      "metadata": {
        "id": "dNIUzhj8XIRk"
      },
      "execution_count": 32,
      "outputs": []
    },
    {
      "cell_type": "code",
      "source": [
        "g.edge_ids(0, 0)\n",
        "g.edge_ids(torch.tensor([1, 0]), torch.tensor([3, 1]))"
      ],
      "metadata": {
        "colab": {
          "base_uri": "https://localhost:8080/"
        },
        "id": "wLTAVyRZXIUD",
        "outputId": "f5a55514-3000-447c-d594-1307672720ff"
      },
      "execution_count": 33,
      "outputs": [
        {
          "output_type": "execute_result",
          "data": {
            "text/plain": [
              "tensor([3, 0])"
            ]
          },
          "metadata": {},
          "execution_count": 33
        }
      ]
    },
    {
      "cell_type": "code",
      "source": [
        "g.edge_ids(torch.tensor([1, 0]), torch.tensor([3, 1]), return_uv=True)"
      ],
      "metadata": {
        "colab": {
          "base_uri": "https://localhost:8080/"
        },
        "id": "zT1_MLl_XIWg",
        "outputId": "05075586-2614-4075-82eb-1f0d142b000c"
      },
      "execution_count": 34,
      "outputs": [
        {
          "output_type": "execute_result",
          "data": {
            "text/plain": [
              "(tensor([1, 0]), tensor([3, 1]), tensor([3, 0]))"
            ]
          },
          "metadata": {},
          "execution_count": 34
        }
      ]
    },
    {
      "cell_type": "code",
      "source": [
        "g = dgl.heterograph({\n",
        "    ('user', 'follows', 'user'): (torch.tensor([0, 1]), torch.tensor([1, 2])),\n",
        "    ('user', 'follows', 'game'): (torch.tensor([0, 1, 2]), torch.tensor([1, 2, 3])),\n",
        "    ('user', 'plays', 'game'): (torch.tensor([1, 3]), torch.tensor([2, 3]))\n",
        "})\n",
        "g.edge_ids(torch.tensor([1]), torch.tensor([2]), etype='plays')"
      ],
      "metadata": {
        "colab": {
          "base_uri": "https://localhost:8080/"
        },
        "id": "Nveg8J_WXIYv",
        "outputId": "c033541c-eca3-4a75-c773-10baad62be82"
      },
      "execution_count": 35,
      "outputs": [
        {
          "output_type": "execute_result",
          "data": {
            "text/plain": [
              "tensor([0])"
            ]
          },
          "metadata": {},
          "execution_count": 35
        }
      ]
    },
    {
      "cell_type": "code",
      "source": [
        "g.edge_ids(torch.tensor([0, 1]), torch.tensor([1, 2]),\n",
        "           etype=('user', 'follows', 'user'))\n",
        "g.edge_ids(torch.tensor([1, 2]), torch.tensor([2, 3]),\n",
        "           etype=('user', 'follows', 'game'))"
      ],
      "metadata": {
        "colab": {
          "base_uri": "https://localhost:8080/"
        },
        "id": "uLijU4LBXIbN",
        "outputId": "481237c8-806c-40a5-eef9-7efbe7a1d3c3"
      },
      "execution_count": 36,
      "outputs": [
        {
          "output_type": "execute_result",
          "data": {
            "text/plain": [
              "tensor([1, 2])"
            ]
          },
          "metadata": {},
          "execution_count": 36
        }
      ]
    },
    {
      "cell_type": "code",
      "source": [
        "g = dgl.graph((torch.tensor([0, 0, 1, 1]), torch.tensor([1, 0, 2, 3])))"
      ],
      "metadata": {
        "id": "0fnV8_wQXIdK"
      },
      "execution_count": 37,
      "outputs": []
    },
    {
      "cell_type": "code",
      "source": [
        "g.find_edges(torch.tensor([0, 2]))"
      ],
      "metadata": {
        "colab": {
          "base_uri": "https://localhost:8080/"
        },
        "id": "MaOoIbWuXIgm",
        "outputId": "46cf29b9-12dc-4be1-ab95-6795a00293b0"
      },
      "execution_count": 38,
      "outputs": [
        {
          "output_type": "execute_result",
          "data": {
            "text/plain": [
              "(tensor([0, 1]), tensor([1, 2]))"
            ]
          },
          "metadata": {},
          "execution_count": 38
        }
      ]
    },
    {
      "cell_type": "code",
      "source": [
        "hg = dgl.heterograph({\n",
        "    ('user', 'follows', 'user'): (torch.tensor([0, 1]), torch.tensor([1, 2])),\n",
        "    ('user', 'plays', 'game'): (torch.tensor([3, 4]), torch.tensor([5, 6]))\n",
        "})\n",
        "hg.find_edges(torch.tensor([1, 0]), 'plays')"
      ],
      "metadata": {
        "colab": {
          "base_uri": "https://localhost:8080/"
        },
        "id": "-3omBitFik23",
        "outputId": "f18a9c57-c733-4cfb-9e1b-12eab3a8f09d"
      },
      "execution_count": 39,
      "outputs": [
        {
          "output_type": "execute_result",
          "data": {
            "text/plain": [
              "(tensor([4, 3]), tensor([6, 5]))"
            ]
          },
          "metadata": {},
          "execution_count": 39
        }
      ]
    },
    {
      "cell_type": "code",
      "source": [
        "g = dgl.graph((torch.tensor([0, 0, 1, 1]), torch.tensor([1, 0, 2, 3])))"
      ],
      "metadata": {
        "id": "eUASdvSxik5k"
      },
      "execution_count": 40,
      "outputs": []
    },
    {
      "cell_type": "code",
      "source": [
        "g.in_edges(torch.tensor([1, 0]))"
      ],
      "metadata": {
        "colab": {
          "base_uri": "https://localhost:8080/"
        },
        "id": "hN6SJdJeik72",
        "outputId": "3d7f280c-7a66-4715-db0c-5b3eb050e22f"
      },
      "execution_count": 41,
      "outputs": [
        {
          "output_type": "execute_result",
          "data": {
            "text/plain": [
              "(tensor([0, 0]), tensor([1, 0]))"
            ]
          },
          "metadata": {},
          "execution_count": 41
        }
      ]
    },
    {
      "cell_type": "code",
      "source": [
        "g.in_edges(torch.tensor([1, 0]), form='all')"
      ],
      "metadata": {
        "colab": {
          "base_uri": "https://localhost:8080/"
        },
        "id": "o0xXNt3Gik-M",
        "outputId": "4569ee48-bded-4b05-c1e6-2af8a1c0b6fe"
      },
      "execution_count": 42,
      "outputs": [
        {
          "output_type": "execute_result",
          "data": {
            "text/plain": [
              "(tensor([0, 0]), tensor([1, 0]), tensor([0, 1]))"
            ]
          },
          "metadata": {},
          "execution_count": 42
        }
      ]
    },
    {
      "cell_type": "code",
      "source": [
        "hg = dgl.heterograph({\n",
        "    ('user', 'follows', 'user'): (torch.tensor([0, 1]), torch.tensor([1, 2])),\n",
        "    ('user', 'plays', 'game'): (torch.tensor([3, 4]), torch.tensor([5, 6]))\n",
        "})\n",
        "hg.in_edges(torch.tensor([1, 0]), etype='follows')"
      ],
      "metadata": {
        "colab": {
          "base_uri": "https://localhost:8080/"
        },
        "id": "lVgefe_GilD1",
        "outputId": "57696fea-7d26-4407-852c-358da58e7d63"
      },
      "execution_count": 43,
      "outputs": [
        {
          "output_type": "execute_result",
          "data": {
            "text/plain": [
              "(tensor([0]), tensor([1]))"
            ]
          },
          "metadata": {},
          "execution_count": 43
        }
      ]
    },
    {
      "cell_type": "code",
      "source": [
        "g = dgl.graph((torch.tensor([0, 0, 1, 1]), torch.tensor([1, 0, 2, 3])))"
      ],
      "metadata": {
        "id": "J72w-mk3jb1B"
      },
      "execution_count": 44,
      "outputs": []
    },
    {
      "cell_type": "code",
      "source": [
        "g.out_edges(torch.tensor([1, 2]))"
      ],
      "metadata": {
        "colab": {
          "base_uri": "https://localhost:8080/"
        },
        "id": "1rULqGp1jcHH",
        "outputId": "173b57bd-99a6-4df1-e97b-fd24fc7152ad"
      },
      "execution_count": 45,
      "outputs": [
        {
          "output_type": "execute_result",
          "data": {
            "text/plain": [
              "(tensor([1, 1]), tensor([2, 3]))"
            ]
          },
          "metadata": {},
          "execution_count": 45
        }
      ]
    },
    {
      "cell_type": "code",
      "source": [
        "g.out_edges(torch.tensor([1, 2]), form='all')"
      ],
      "metadata": {
        "colab": {
          "base_uri": "https://localhost:8080/"
        },
        "id": "0zDqZojDjcNl",
        "outputId": "9da96c8a-691d-4fec-824d-859558b565e9"
      },
      "execution_count": 46,
      "outputs": [
        {
          "output_type": "execute_result",
          "data": {
            "text/plain": [
              "(tensor([1, 1]), tensor([2, 3]), tensor([2, 3]))"
            ]
          },
          "metadata": {},
          "execution_count": 46
        }
      ]
    },
    {
      "cell_type": "code",
      "source": [
        "hg = dgl.heterograph({\n",
        "    ('user', 'follows', 'user'): (torch.tensor([0, 1]), torch.tensor([1, 2])),\n",
        "    ('user', 'plays', 'game'): (torch.tensor([3, 4]), torch.tensor([5, 6]))\n",
        "})\n",
        "hg.out_edges(torch.tensor([1, 2]), etype='follows')"
      ],
      "metadata": {
        "colab": {
          "base_uri": "https://localhost:8080/"
        },
        "id": "ZhQPo3stjcQO",
        "outputId": "c8bdb051-f657-4b35-efbe-8888d3caaf0d"
      },
      "execution_count": 47,
      "outputs": [
        {
          "output_type": "execute_result",
          "data": {
            "text/plain": [
              "(tensor([1]), tensor([2]))"
            ]
          },
          "metadata": {},
          "execution_count": 47
        }
      ]
    },
    {
      "cell_type": "markdown",
      "source": [
        "# dgl.DGLGraph.in_degrees"
      ],
      "metadata": {
        "id": "oqj_ttRJj_Nc"
      }
    },
    {
      "cell_type": "markdown",
      "source": [
        "# The following example uses PyTorch backend."
      ],
      "metadata": {
        "id": "wBWajOwAkMw8"
      }
    },
    {
      "cell_type": "code",
      "source": [
        "import dgl\n",
        "import torch"
      ],
      "metadata": {
        "id": "xRVehyXwktwm"
      },
      "execution_count": 48,
      "outputs": []
    },
    {
      "cell_type": "markdown",
      "source": [
        "# Create a homogeneous graph.\n",
        "\n"
      ],
      "metadata": {
        "id": "KxeRJvyWkBbu"
      }
    },
    {
      "cell_type": "code",
      "source": [
        "g = dgl.graph((torch.tensor([0, 0, 1, 1]), torch.tensor([1, 1, 2, 3])))"
      ],
      "metadata": {
        "id": "ic9sLnacjcV-"
      },
      "execution_count": 49,
      "outputs": []
    },
    {
      "cell_type": "markdown",
      "source": [
        "# Query for all nodes."
      ],
      "metadata": {
        "id": "EnsnGA0qk6zn"
      }
    },
    {
      "cell_type": "code",
      "source": [
        "g.in_degrees()"
      ],
      "metadata": {
        "colab": {
          "base_uri": "https://localhost:8080/"
        },
        "id": "j0vG6_tXjcYn",
        "outputId": "580aa7d9-e9d4-4d04-c733-60f844eeca80"
      },
      "execution_count": 71,
      "outputs": [
        {
          "output_type": "execute_result",
          "data": {
            "text/plain": [
              "tensor([0, 2, 1, 1])"
            ]
          },
          "metadata": {},
          "execution_count": 71
        }
      ]
    },
    {
      "cell_type": "markdown",
      "source": [],
      "metadata": {
        "id": "LUdZu7vsk5WD"
      }
    },
    {
      "cell_type": "code",
      "source": [
        "g.in_degrees(torch.tensor([1, 2]))"
      ],
      "metadata": {
        "colab": {
          "base_uri": "https://localhost:8080/"
        },
        "id": "ttjUEFG9jcb8",
        "outputId": "01792512-b3b3-48ba-9912-64e032705c18"
      },
      "execution_count": 65,
      "outputs": [
        {
          "output_type": "execute_result",
          "data": {
            "text/plain": [
              "tensor([2, 1])"
            ]
          },
          "metadata": {},
          "execution_count": 65
        }
      ]
    },
    {
      "cell_type": "code",
      "source": [
        "hg = dgl.heterograph({\n",
        "    ('user', 'follows', 'user'): (torch.tensor([0, 1]), torch.tensor([1, 2])),\n",
        "    ('user', 'plays', 'game'): (torch.tensor([3, 4]), torch.tensor([5, 6]))\n",
        "})\n",
        "hg.in_degrees(torch.tensor([1, 0]), etype='follows')"
      ],
      "metadata": {
        "colab": {
          "base_uri": "https://localhost:8080/"
        },
        "id": "mvMkscHklRmw",
        "outputId": "6173d802-991f-4b06-f2da-277d34ddea63"
      },
      "execution_count": 66,
      "outputs": [
        {
          "output_type": "execute_result",
          "data": {
            "text/plain": [
              "tensor([1, 0])"
            ]
          },
          "metadata": {},
          "execution_count": 66
        }
      ]
    },
    {
      "cell_type": "code",
      "source": [
        "g = dgl.graph((torch.tensor([0, 0, 1, 1]), torch.tensor([1, 1, 2, 3])))"
      ],
      "metadata": {
        "id": "DuJIiR2WlR0p"
      },
      "execution_count": 67,
      "outputs": []
    },
    {
      "cell_type": "code",
      "source": [
        "g.out_degrees()"
      ],
      "metadata": {
        "colab": {
          "base_uri": "https://localhost:8080/"
        },
        "id": "KgMZ06HvlR3N",
        "outputId": "558ea9cb-4134-4921-8c08-96f276779c1d"
      },
      "execution_count": 68,
      "outputs": [
        {
          "output_type": "execute_result",
          "data": {
            "text/plain": [
              "tensor([2, 2, 0, 0])"
            ]
          },
          "metadata": {},
          "execution_count": 68
        }
      ]
    },
    {
      "cell_type": "code",
      "source": [
        "g.out_degrees(torch.tensor([1, 2]))"
      ],
      "metadata": {
        "colab": {
          "base_uri": "https://localhost:8080/"
        },
        "id": "baxz_p8_lR6I",
        "outputId": "fe444fc5-0c67-4e1b-9273-9f19ad08c489"
      },
      "execution_count": 69,
      "outputs": [
        {
          "output_type": "execute_result",
          "data": {
            "text/plain": [
              "tensor([2, 0])"
            ]
          },
          "metadata": {},
          "execution_count": 69
        }
      ]
    },
    {
      "cell_type": "code",
      "source": [
        "hg = dgl.heterograph({\n",
        "    ('user', 'follows', 'user'): (torch.tensor([0, 1]), torch.tensor([1, 2])),\n",
        "    ('user', 'plays', 'game'): (torch.tensor([3, 4]), torch.tensor([5, 6]))\n",
        "})\n",
        "hg.out_degrees(torch.tensor([1, 0]), etype='follows')"
      ],
      "metadata": {
        "colab": {
          "base_uri": "https://localhost:8080/"
        },
        "id": "lZY-u5ivlR8Q",
        "outputId": "c56bfed6-12d9-4bf9-a6ad-109e87ae85cf"
      },
      "execution_count": 70,
      "outputs": [
        {
          "output_type": "execute_result",
          "data": {
            "text/plain": [
              "tensor([1, 1])"
            ]
          },
          "metadata": {},
          "execution_count": 70
        }
      ]
    },
    {
      "cell_type": "markdown",
      "source": [
        "# Querying and manipulating node/edge ID type"
      ],
      "metadata": {
        "id": "9fB6wjy-lupf"
      }
    },
    {
      "cell_type": "code",
      "source": [
        "import dgl\n",
        "import torch"
      ],
      "metadata": {
        "id": "Ht1P0EWbnfAp"
      },
      "execution_count": 5,
      "outputs": []
    },
    {
      "cell_type": "code",
      "source": [
        "src_ids = torch.tensor([0, 0, 1])\n",
        "dst_ids = torch.tensor([1, 2, 2])\n",
        "g = dgl.graph((src_ids, dst_ids))\n",
        "g.idtype\n",
        "g = dgl.graph((src_ids, dst_ids), idtype=torch.int32)\n",
        "g.idtype"
      ],
      "metadata": {
        "colab": {
          "base_uri": "https://localhost:8080/"
        },
        "id": "EDfJOKjPlR_9",
        "outputId": "e666b71e-0ff3-4b87-900b-118b090299e2"
      },
      "execution_count": 73,
      "outputs": [
        {
          "output_type": "execute_result",
          "data": {
            "text/plain": [
              "torch.int32"
            ]
          },
          "metadata": {},
          "execution_count": 73
        }
      ]
    },
    {
      "cell_type": "code",
      "source": [
        "# (0, 1), (0, 2), (1, 2)\n",
        "g = dgl.graph((torch.tensor([0, 0, 1]).int(), torch.tensor([1, 2, 2]).int()))\n",
        "g.ndata['feat'] = torch.ones(3, 1)\n",
        "g.idtype"
      ],
      "metadata": {
        "colab": {
          "base_uri": "https://localhost:8080/"
        },
        "id": "BkDvAiQmnwYX",
        "outputId": "eaa6235d-85f9-46a0-f1c8-287432db8928"
      },
      "execution_count": 74,
      "outputs": [
        {
          "output_type": "execute_result",
          "data": {
            "text/plain": [
              "torch.int32"
            ]
          },
          "metadata": {},
          "execution_count": 74
        }
      ]
    },
    {
      "cell_type": "code",
      "source": [
        "# A cloned graph with an idtype of int64\n",
        "g_long = g.long()\n",
        "g_long.idtype\n",
        "# The idtype of the original graph does not change.\n",
        "g.idtype\n",
        "g_long.edges()\n",
        "g_long.ndata"
      ],
      "metadata": {
        "colab": {
          "base_uri": "https://localhost:8080/"
        },
        "id": "q8IktL-WnwbE",
        "outputId": "021755c7-1528-4b2d-b9c4-3a3d481805eb"
      },
      "execution_count": 75,
      "outputs": [
        {
          "output_type": "execute_result",
          "data": {
            "text/plain": [
              "{'feat': tensor([[1.],\n",
              "        [1.],\n",
              "        [1.]])}"
            ]
          },
          "metadata": {},
          "execution_count": 75
        }
      ]
    },
    {
      "cell_type": "code",
      "source": [
        "# (0, 1), (0, 2), (1, 2)\n",
        "g = dgl.graph((torch.tensor([0, 0, 1]), torch.tensor([1, 2, 2])))\n",
        "g.ndata['feat'] = torch.ones(3, 1)\n",
        "g.idtype"
      ],
      "metadata": {
        "colab": {
          "base_uri": "https://localhost:8080/"
        },
        "id": "Z1M0noOSnwed",
        "outputId": "6325b480-ff3a-4ecd-b3a9-a5581942ce92"
      },
      "execution_count": 76,
      "outputs": [
        {
          "output_type": "execute_result",
          "data": {
            "text/plain": [
              "torch.int64"
            ]
          },
          "metadata": {},
          "execution_count": 76
        }
      ]
    },
    {
      "cell_type": "code",
      "source": [
        "# A cloned graph with an idtype of int32\n",
        "g_int = g.int()\n",
        "g_int.idtype\n",
        "# The idtype of the original graph does not change.\n",
        "g.idtype\n",
        "g_int.edges()\n",
        "g_int.ndata"
      ],
      "metadata": {
        "colab": {
          "base_uri": "https://localhost:8080/"
        },
        "id": "5vCei6HNnwxF",
        "outputId": "d297ee39-c0db-4802-e72b-4fb656b073a4"
      },
      "execution_count": 77,
      "outputs": [
        {
          "output_type": "execute_result",
          "data": {
            "text/plain": [
              "{'feat': tensor([[1.],\n",
              "        [1.],\n",
              "        [1.]])}"
            ]
          },
          "metadata": {},
          "execution_count": 77
        }
      ]
    },
    {
      "cell_type": "markdown",
      "source": [
        "# Using Node/edge features"
      ],
      "metadata": {
        "id": "PlZm2y296P4l"
      }
    },
    {
      "cell_type": "code",
      "source": [
        "g = dgl.graph((torch.tensor([0, 1]), torch.tensor([1, 2])))\n",
        "hg = dgl.heterograph({\n",
        "    ('user', 'follows', 'user'): (torch.tensor([0, 1]), torch.tensor([1, 2])),\n",
        "    ('user', 'plays', 'game'): (torch.tensor([3, 4]), torch.tensor([5, 6]))\n",
        "})"
      ],
      "metadata": {
        "id": "44GgZk4gnw0h"
      },
      "execution_count": 78,
      "outputs": []
    },
    {
      "cell_type": "code",
      "source": [
        "g.nodes()"
      ],
      "metadata": {
        "colab": {
          "base_uri": "https://localhost:8080/"
        },
        "id": "flgXUyr-6RbH",
        "outputId": "b69c2b27-b0d5-4950-ef65-13da99e3f242"
      },
      "execution_count": 79,
      "outputs": [
        {
          "output_type": "execute_result",
          "data": {
            "text/plain": [
              "tensor([0, 1, 2])"
            ]
          },
          "metadata": {},
          "execution_count": 79
        }
      ]
    },
    {
      "cell_type": "code",
      "source": [
        "hg.nodes('user')"
      ],
      "metadata": {
        "colab": {
          "base_uri": "https://localhost:8080/"
        },
        "id": "2boOwEnS6Re0",
        "outputId": "95cde9fc-82b1-4185-fd6a-b3e5e14bf29e"
      },
      "execution_count": 80,
      "outputs": [
        {
          "output_type": "execute_result",
          "data": {
            "text/plain": [
              "tensor([0, 1, 2, 3, 4])"
            ]
          },
          "metadata": {},
          "execution_count": 80
        }
      ]
    },
    {
      "cell_type": "code",
      "source": [
        "hg.nodes('user')"
      ],
      "metadata": {
        "colab": {
          "base_uri": "https://localhost:8080/"
        },
        "id": "yOtd68sG6RiX",
        "outputId": "f5f64a51-37e6-44c1-b761-732d6a8d6357"
      },
      "execution_count": 81,
      "outputs": [
        {
          "output_type": "execute_result",
          "data": {
            "text/plain": [
              "tensor([0, 1, 2, 3, 4])"
            ]
          },
          "metadata": {},
          "execution_count": 81
        }
      ]
    },
    {
      "cell_type": "code",
      "source": [
        "hg.nodes['user'].data['h'] = torch.ones(5, 1)\n",
        "hg.nodes['user'].data['h']"
      ],
      "metadata": {
        "colab": {
          "base_uri": "https://localhost:8080/"
        },
        "id": "RbbVmsKv6Rl6",
        "outputId": "6dcce9d5-f1db-4524-e46c-49abbd774d14"
      },
      "execution_count": 82,
      "outputs": [
        {
          "output_type": "execute_result",
          "data": {
            "text/plain": [
              "tensor([[1.],\n",
              "        [1.],\n",
              "        [1.],\n",
              "        [1.],\n",
              "        [1.]])"
            ]
          },
          "metadata": {},
          "execution_count": 82
        }
      ]
    },
    {
      "cell_type": "code",
      "source": [
        "g = dgl.graph((torch.tensor([0, 1]), torch.tensor([1, 2])))\n",
        "g.ndata['h'] = torch.ones(3, 1)\n",
        "g.ndata['h']"
      ],
      "metadata": {
        "colab": {
          "base_uri": "https://localhost:8080/"
        },
        "id": "vZjMLlpO8uHL",
        "outputId": "1d888590-e29d-4f1c-d0ce-41b926cb93eb"
      },
      "execution_count": 83,
      "outputs": [
        {
          "output_type": "execute_result",
          "data": {
            "text/plain": [
              "tensor([[1.],\n",
              "        [1.],\n",
              "        [1.]])"
            ]
          },
          "metadata": {},
          "execution_count": 83
        }
      ]
    },
    {
      "cell_type": "code",
      "source": [
        "g = dgl.heterograph({\n",
        "    ('user', 'follows', 'user'): (torch.tensor([1, 2]), torch.tensor([3, 4])),\n",
        "    ('player', 'plays', 'game'): (torch.tensor([2, 2]), torch.tensor([1, 1]))\n",
        "})\n",
        "g.ndata['h'] = {'game': torch.zeros(2, 1), 'player': torch.ones(3, 1)}\n",
        "g.ndata['h']\n",
        "g.ndata['h'] = {'game': torch.ones(2, 1)}\n",
        "g.ndata['h']"
      ],
      "metadata": {
        "colab": {
          "base_uri": "https://localhost:8080/"
        },
        "id": "hIWfnJSy8uLL",
        "outputId": "9425df57-25a8-42e3-db88-3a3630213256"
      },
      "execution_count": 84,
      "outputs": [
        {
          "output_type": "execute_result",
          "data": {
            "text/plain": [
              "{'game': tensor([[1.],\n",
              "         [1.]]),\n",
              " 'player': tensor([[1.],\n",
              "         [1.],\n",
              "         [1.]])}"
            ]
          },
          "metadata": {},
          "execution_count": 84
        }
      ]
    },
    {
      "cell_type": "code",
      "source": [
        "g = dgl.graph((torch.tensor([1, 0, 0]), torch.tensor([1, 1, 0])))\n",
        "g.edges()"
      ],
      "metadata": {
        "colab": {
          "base_uri": "https://localhost:8080/"
        },
        "id": "pktQ1XsI8uPL",
        "outputId": "54569892-9d10-4852-ff40-64c0aca874a1"
      },
      "execution_count": 85,
      "outputs": [
        {
          "output_type": "execute_result",
          "data": {
            "text/plain": [
              "(tensor([1, 0, 0]), tensor([1, 1, 0]))"
            ]
          },
          "metadata": {},
          "execution_count": 85
        }
      ]
    },
    {
      "cell_type": "code",
      "source": [
        "g.edges(form='all', order='srcdst')"
      ],
      "metadata": {
        "colab": {
          "base_uri": "https://localhost:8080/"
        },
        "id": "QiWCaJXy8uTB",
        "outputId": "f68d1fa2-b3ec-41a7-98d6-319fbb05fc82"
      },
      "execution_count": 86,
      "outputs": [
        {
          "output_type": "execute_result",
          "data": {
            "text/plain": [
              "(tensor([0, 0, 1]), tensor([0, 1, 1]), tensor([2, 1, 0]))"
            ]
          },
          "metadata": {},
          "execution_count": 86
        }
      ]
    },
    {
      "cell_type": "code",
      "source": [
        "hg = dgl.heterograph({\n",
        "    ('user', 'follows', 'user'): (torch.tensor([0, 1]), torch.tensor([1, 2])),\n",
        "    ('user', 'plays', 'game'): (torch.tensor([3, 4]), torch.tensor([5, 6]))\n",
        "})\n",
        "hg.edges(etype='plays')"
      ],
      "metadata": {
        "colab": {
          "base_uri": "https://localhost:8080/"
        },
        "id": "ieALH3QB8uXO",
        "outputId": "31f123db-cade-45c1-b62d-bf16d01c5594"
      },
      "execution_count": 87,
      "outputs": [
        {
          "output_type": "execute_result",
          "data": {
            "text/plain": [
              "(tensor([3, 4]), tensor([5, 6]))"
            ]
          },
          "metadata": {},
          "execution_count": 87
        }
      ]
    },
    {
      "cell_type": "code",
      "source": [
        "hg = dgl.heterograph({\n",
        "    ('user', 'follows', 'user'): (torch.tensor([0, 1]), torch.tensor([1, 2])),\n",
        "    ('user', 'plays', 'game'): (torch.tensor([3, 4]), torch.tensor([5, 6]))\n",
        "})"
      ],
      "metadata": {
        "id": "oZIWowQx8ubJ"
      },
      "execution_count": 88,
      "outputs": []
    },
    {
      "cell_type": "code",
      "source": [
        "hg.edges['follows'].data['h'] = torch.ones(2, 1)\n",
        "hg.edges['follows'].data['h']"
      ],
      "metadata": {
        "colab": {
          "base_uri": "https://localhost:8080/"
        },
        "id": "UwTM25ms8u24",
        "outputId": "644257cd-a0fc-4fd7-a269-fed1dc50af5b"
      },
      "execution_count": 89,
      "outputs": [
        {
          "output_type": "execute_result",
          "data": {
            "text/plain": [
              "tensor([[1.],\n",
              "        [1.]])"
            ]
          },
          "metadata": {},
          "execution_count": 89
        }
      ]
    },
    {
      "cell_type": "code",
      "source": [
        "g = dgl.graph((torch.tensor([0, 1]), torch.tensor([1, 2])))\n",
        "g.edata['h'] = torch.ones(2, 1)\n",
        "g.edata['h']"
      ],
      "metadata": {
        "colab": {
          "base_uri": "https://localhost:8080/"
        },
        "id": "VfXqnhHF8u68",
        "outputId": "15de76e8-c5e3-457b-e7d8-d166107f0a5b"
      },
      "execution_count": 90,
      "outputs": [
        {
          "output_type": "execute_result",
          "data": {
            "text/plain": [
              "tensor([[1.],\n",
              "        [1.]])"
            ]
          },
          "metadata": {},
          "execution_count": 90
        }
      ]
    },
    {
      "cell_type": "code",
      "source": [
        "g = dgl.heterograph({\n",
        "    ('user', 'follows', 'user'): (torch.tensor([1, 2]), torch.tensor([3, 4])),\n",
        "    ('user', 'plays', 'user'): (torch.tensor([2, 2]), torch.tensor([1, 1])),\n",
        "    ('player', 'plays', 'game'): (torch.tensor([2, 2]), torch.tensor([1, 1]))\n",
        "})\n",
        "g.edata['h'] = {('user', 'follows', 'user'): torch.zeros(2, 1),\n",
        "                ('user', 'plays', 'user'): torch.ones(2, 1)}\n",
        "g.edata['h']\n",
        "g.edata['h'] = {('user', 'follows', 'user'): torch.ones(2, 1)}\n",
        "g.edata['h']"
      ],
      "metadata": {
        "colab": {
          "base_uri": "https://localhost:8080/"
        },
        "id": "AN-NvBeX8u_Q",
        "outputId": "7d115124-430a-4f8f-c137-e87c16d9bb6f"
      },
      "execution_count": 91,
      "outputs": [
        {
          "output_type": "execute_result",
          "data": {
            "text/plain": [
              "{('user',\n",
              "  'follows',\n",
              "  'user'): tensor([[1.],\n",
              "         [1.]]),\n",
              " ('user',\n",
              "  'plays',\n",
              "  'user'): tensor([[1.],\n",
              "         [1.]])}"
            ]
          },
          "metadata": {},
          "execution_count": 91
        }
      ]
    },
    {
      "cell_type": "code",
      "source": [
        "g = dgl.graph((torch.tensor([0, 1]), torch.tensor([1, 2])))\n",
        "g.ndata['h1'] = torch.randn(3, 1)\n",
        "g.ndata['h2'] = torch.randn(3, 2)\n",
        "g.node_attr_schemes()"
      ],
      "metadata": {
        "colab": {
          "base_uri": "https://localhost:8080/"
        },
        "id": "K7EPJ62D8vDT",
        "outputId": "757c38a4-57b6-4635-899d-cc3d826a6d69"
      },
      "execution_count": 92,
      "outputs": [
        {
          "output_type": "execute_result",
          "data": {
            "text/plain": [
              "{'h1': Scheme(shape=(1,), dtype=torch.float32),\n",
              " 'h2': Scheme(shape=(2,), dtype=torch.float32)}"
            ]
          },
          "metadata": {},
          "execution_count": 92
        }
      ]
    },
    {
      "cell_type": "code",
      "source": [
        "g = dgl.heterograph({('user', 'plays', 'game'):\n",
        "                     (torch.tensor([1, 2]), torch.tensor([3, 4]))})\n",
        "g.nodes['user'].data['h1'] = torch.randn(3, 1)\n",
        "g.nodes['user'].data['h2'] = torch.randn(3, 2)\n",
        "g.node_attr_schemes('user')"
      ],
      "metadata": {
        "colab": {
          "base_uri": "https://localhost:8080/"
        },
        "id": "w4vo2QB_BEie",
        "outputId": "53820129-ed4d-43ae-d8e1-6dba4ce0f91d"
      },
      "execution_count": 93,
      "outputs": [
        {
          "output_type": "execute_result",
          "data": {
            "text/plain": [
              "{'h1': Scheme(shape=(1,), dtype=torch.float32),\n",
              " 'h2': Scheme(shape=(2,), dtype=torch.float32)}"
            ]
          },
          "metadata": {},
          "execution_count": 93
        }
      ]
    },
    {
      "cell_type": "code",
      "source": [
        "g = dgl.graph((torch.tensor([0, 1]), torch.tensor([1, 2])))\n",
        "g.edata['h1'] = torch.randn(2, 1)\n",
        "g.edata['h2'] = torch.randn(2, 2)\n",
        "g.edge_attr_schemes()"
      ],
      "metadata": {
        "colab": {
          "base_uri": "https://localhost:8080/"
        },
        "id": "wx19ftzLBEtM",
        "outputId": "d3329354-cdf2-496d-fbdf-08f34c0da88a"
      },
      "execution_count": 94,
      "outputs": [
        {
          "output_type": "execute_result",
          "data": {
            "text/plain": [
              "{'h1': Scheme(shape=(1,), dtype=torch.float32),\n",
              " 'h2': Scheme(shape=(2,), dtype=torch.float32)}"
            ]
          },
          "metadata": {},
          "execution_count": 94
        }
      ]
    },
    {
      "cell_type": "code",
      "source": [
        "g = dgl.heterograph({('user', 'plays', 'game'):\n",
        "                     (torch.tensor([1, 2]), torch.tensor([3, 4])),\n",
        "                     ('user', 'follows', 'user'):\n",
        "                     (torch.tensor([3, 4]), torch.tensor([5, 6]))})\n",
        "g.edges['plays'].data['h1'] = torch.randn(2, 1)\n",
        "g.edges['plays'].data['h2'] = torch.randn(2, 2)\n",
        "g.edge_attr_schemes('plays')"
      ],
      "metadata": {
        "colab": {
          "base_uri": "https://localhost:8080/"
        },
        "id": "k1AMf57YBEyE",
        "outputId": "01cb53c0-9c40-4d8d-ba90-158b3f175c92"
      },
      "execution_count": 95,
      "outputs": [
        {
          "output_type": "execute_result",
          "data": {
            "text/plain": [
              "{'h1': Scheme(shape=(1,), dtype=torch.float32),\n",
              " 'h2': Scheme(shape=(2,), dtype=torch.float32)}"
            ]
          },
          "metadata": {},
          "execution_count": 95
        }
      ]
    },
    {
      "cell_type": "code",
      "source": [
        "g = dgl.heterograph({\n",
        "    ('user', 'plays', 'game'): (torch.tensor([0]), torch.tensor([1])),\n",
        "    ('developer', 'develops', 'game'): (torch.tensor([1]), torch.tensor([2]))\n",
        "})"
      ],
      "metadata": {
        "id": "_QDr-70-BE2t"
      },
      "execution_count": 96,
      "outputs": []
    },
    {
      "cell_type": "code",
      "source": [
        "g.srcnodes('user')\n",
        "g.srcnodes('developer')"
      ],
      "metadata": {
        "colab": {
          "base_uri": "https://localhost:8080/"
        },
        "id": "PhjC8smWBE7k",
        "outputId": "6e408a1c-e167-4f0b-d5cb-314e4416782a"
      },
      "execution_count": 97,
      "outputs": [
        {
          "output_type": "execute_result",
          "data": {
            "text/plain": [
              "tensor([0, 1])"
            ]
          },
          "metadata": {},
          "execution_count": 97
        }
      ]
    },
    {
      "cell_type": "code",
      "source": [
        "g.srcnodes['user'].data['h'] = torch.ones(1, 1)\n",
        "g.srcnodes['user'].data['h']"
      ],
      "metadata": {
        "colab": {
          "base_uri": "https://localhost:8080/"
        },
        "id": "iPLNuHQtBFB4",
        "outputId": "4b173806-7e11-4ccf-af93-51242a5f95ed"
      },
      "execution_count": 98,
      "outputs": [
        {
          "output_type": "execute_result",
          "data": {
            "text/plain": [
              "tensor([[1.]])"
            ]
          },
          "metadata": {},
          "execution_count": 98
        }
      ]
    },
    {
      "cell_type": "code",
      "source": [
        "g = dgl.heterograph({\n",
        "    ('user', 'follows', 'user'): (torch.tensor([0]), torch.tensor([1])),\n",
        "    ('developer', 'develops', 'game'): (torch.tensor([1]), torch.tensor([2]))\n",
        "})"
      ],
      "metadata": {
        "id": "v4h5oEgCBFGv"
      },
      "execution_count": 99,
      "outputs": []
    },
    {
      "cell_type": "code",
      "source": [
        "g.srcnodes('game')"
      ],
      "metadata": {
        "colab": {
          "base_uri": "https://localhost:8080/"
        },
        "id": "rDsiz1KOCsXo",
        "outputId": "998aba35-4bd4-4945-d34d-ac4fe597154c"
      },
      "execution_count": 100,
      "outputs": [
        {
          "output_type": "execute_result",
          "data": {
            "text/plain": [
              "tensor([0, 1, 2])"
            ]
          },
          "metadata": {},
          "execution_count": 100
        }
      ]
    },
    {
      "cell_type": "code",
      "source": [
        "g.srcnodes['game'].data['h'] = torch.ones(3, 1)\n",
        "g.srcnodes['game'].data['h']"
      ],
      "metadata": {
        "colab": {
          "base_uri": "https://localhost:8080/"
        },
        "id": "AFVakScqCsdO",
        "outputId": "35861ff9-be79-42b9-c94d-1323b9e0274a"
      },
      "execution_count": 101,
      "outputs": [
        {
          "output_type": "execute_result",
          "data": {
            "text/plain": [
              "tensor([[1.],\n",
              "        [1.],\n",
              "        [1.]])"
            ]
          },
          "metadata": {},
          "execution_count": 101
        }
      ]
    },
    {
      "cell_type": "code",
      "source": [
        "g = dgl.heterograph({\n",
        "    ('user', 'plays', 'game'): (torch.tensor([0]), torch.tensor([1])),\n",
        "    ('developer', 'develops', 'game'): (torch.tensor([1]), torch.tensor([2]))\n",
        "})"
      ],
      "metadata": {
        "id": "-7O6d50tCsmy"
      },
      "execution_count": 102,
      "outputs": []
    },
    {
      "cell_type": "code",
      "source": [
        "g.dstnodes('game')"
      ],
      "metadata": {
        "colab": {
          "base_uri": "https://localhost:8080/"
        },
        "id": "BcimD7xwCstv",
        "outputId": "0fb72a9b-9f26-46f4-9e44-36f827ce5b16"
      },
      "execution_count": 103,
      "outputs": [
        {
          "output_type": "execute_result",
          "data": {
            "text/plain": [
              "tensor([0, 1, 2])"
            ]
          },
          "metadata": {},
          "execution_count": 103
        }
      ]
    },
    {
      "cell_type": "code",
      "source": [
        "g.dstnodes['game'].data['h'] = torch.ones(3, 1)\n",
        "g.dstnodes['game'].data['h']"
      ],
      "metadata": {
        "colab": {
          "base_uri": "https://localhost:8080/"
        },
        "id": "0RTF7MF5Cszq",
        "outputId": "8fc7b2a0-5311-4d91-8e96-de66b0ae6bca"
      },
      "execution_count": 104,
      "outputs": [
        {
          "output_type": "execute_result",
          "data": {
            "text/plain": [
              "tensor([[1.],\n",
              "        [1.],\n",
              "        [1.]])"
            ]
          },
          "metadata": {},
          "execution_count": 104
        }
      ]
    },
    {
      "cell_type": "code",
      "source": [
        "g = dgl.heterograph({\n",
        "    ('user', 'follows', 'user'): (torch.tensor([0]), torch.tensor([1])),\n",
        "    ('developer', 'develops', 'game'): (torch.tensor([1]), torch.tensor([2]))\n",
        "})"
      ],
      "metadata": {
        "id": "GKwoEt5SCs48"
      },
      "execution_count": 105,
      "outputs": []
    },
    {
      "cell_type": "code",
      "source": [
        "g.dstnodes('developer')"
      ],
      "metadata": {
        "colab": {
          "base_uri": "https://localhost:8080/"
        },
        "id": "bfS5nbREBFLk",
        "outputId": "fbb429bc-c53e-4ce9-d15d-bdab0df13d88"
      },
      "execution_count": 107,
      "outputs": [
        {
          "output_type": "execute_result",
          "data": {
            "text/plain": [
              "tensor([0, 1])"
            ]
          },
          "metadata": {},
          "execution_count": 107
        }
      ]
    },
    {
      "cell_type": "code",
      "source": [
        "g.dstnodes['developer'].data['h'] = torch.ones(2, 1)\n",
        "g.dstnodes['developer'].data['h']"
      ],
      "metadata": {
        "colab": {
          "base_uri": "https://localhost:8080/"
        },
        "id": "Kq5YpOQLBFQi",
        "outputId": "5ef97fbb-db1b-4c46-b228-ca5081563908"
      },
      "execution_count": 106,
      "outputs": [
        {
          "output_type": "execute_result",
          "data": {
            "text/plain": [
              "tensor([[1.],\n",
              "        [1.]])"
            ]
          },
          "metadata": {},
          "execution_count": 106
        }
      ]
    },
    {
      "cell_type": "code",
      "source": [
        "g = dgl.heterograph({\n",
        "    ('user', 'plays', 'game'): (torch.tensor([0, 1]), torch.tensor([1, 2]))})\n",
        "g.srcdata['h'] = torch.ones(2, 1)\n",
        "g.srcdata['h']"
      ],
      "metadata": {
        "colab": {
          "base_uri": "https://localhost:8080/"
        },
        "id": "_CNnc-BNEaTC",
        "outputId": "dbf00ea9-a095-4b38-a2a3-6f7979fcd9a9"
      },
      "execution_count": 108,
      "outputs": [
        {
          "output_type": "execute_result",
          "data": {
            "text/plain": [
              "tensor([[1.],\n",
              "        [1.]])"
            ]
          },
          "metadata": {},
          "execution_count": 108
        }
      ]
    },
    {
      "cell_type": "code",
      "source": [
        "g = dgl.heterograph({\n",
        "    ('user', 'plays', 'game'): (torch.tensor([1, 2]), torch.tensor([3, 4])),\n",
        "    ('player', 'plays', 'game'): (torch.tensor([2, 2]), torch.tensor([1, 1]))\n",
        "})\n",
        "g.srcdata['h'] = {'user': torch.zeros(3, 1), 'player': torch.ones(3, 1)}\n",
        "g.srcdata['h']\n",
        "g.srcdata['h'] = {'user': torch.ones(3, 1)}\n",
        "g.srcdata['h']"
      ],
      "metadata": {
        "colab": {
          "base_uri": "https://localhost:8080/"
        },
        "id": "Me5UvCtNEapb",
        "outputId": "818b2ee7-05e3-40dc-f194-262b942dd834"
      },
      "execution_count": 109,
      "outputs": [
        {
          "output_type": "execute_result",
          "data": {
            "text/plain": [
              "{'player': tensor([[1.],\n",
              "         [1.],\n",
              "         [1.]]),\n",
              " 'user': tensor([[1.],\n",
              "         [1.],\n",
              "         [1.]])}"
            ]
          },
          "metadata": {},
          "execution_count": 109
        }
      ]
    },
    {
      "cell_type": "code",
      "source": [
        "g = dgl.heterograph({\n",
        "    ('user', 'plays', 'game'): (torch.tensor([0, 1]), torch.tensor([1, 2]))})\n",
        "g.dstdata['h'] = torch.ones(3, 1)\n",
        "g.dstdata['h']"
      ],
      "metadata": {
        "colab": {
          "base_uri": "https://localhost:8080/"
        },
        "id": "E_4dfG9dEawS",
        "outputId": "c688fd3a-14b2-41c6-ae1b-f34c00e3842c"
      },
      "execution_count": 110,
      "outputs": [
        {
          "output_type": "execute_result",
          "data": {
            "text/plain": [
              "tensor([[1.],\n",
              "        [1.],\n",
              "        [1.]])"
            ]
          },
          "metadata": {},
          "execution_count": 110
        }
      ]
    },
    {
      "cell_type": "code",
      "source": [
        "g = dgl.heterograph({\n",
        "    ('user', 'plays', 'game'): (torch.tensor([1, 2]), torch.tensor([1, 2])),\n",
        "    ('user', 'watches', 'movie'): (torch.tensor([2, 2]), torch.tensor([1, 1]))\n",
        "})\n",
        "g.dstdata['h'] = {'game': torch.zeros(3, 1), 'movie': torch.ones(2, 1)}\n",
        "g.dstdata['h']\n",
        "g.dstdata['h'] = {'game': torch.ones(3, 1)}\n",
        "g.dstdata['h']"
      ],
      "metadata": {
        "colab": {
          "base_uri": "https://localhost:8080/"
        },
        "id": "TUuIjDuCEa3U",
        "outputId": "dec3083e-0942-4d1c-dccb-f7f8cf387274"
      },
      "execution_count": 111,
      "outputs": [
        {
          "output_type": "execute_result",
          "data": {
            "text/plain": [
              "{'game': tensor([[1.],\n",
              "         [1.],\n",
              "         [1.]]),\n",
              " 'movie': tensor([[1.],\n",
              "         [1.]])}"
            ]
          },
          "metadata": {},
          "execution_count": 111
        }
      ]
    },
    {
      "cell_type": "markdown",
      "source": [
        "# Transforming graph"
      ],
      "metadata": {
        "id": "zjMQ56g1Fhr1"
      }
    },
    {
      "cell_type": "code",
      "source": [
        "g = dgl.heterograph({\n",
        "    ('A1', 'AB1', 'B'): ([0, 1, 2], [1, 2, 3]),\n",
        "    ('A1', 'AB2', 'B'): ([1, 2, 3], [3, 4, 5]),\n",
        "    ('A2', 'AB2', 'B'): ([1, 3, 5], [2, 4, 6])})\n",
        "new_g1 = g['A1', :, 'B']         # combines all edge types between A1 and B\n",
        "new_g1\n",
        "new_g1.edges()\n",
        "new_g2 = g[:, 'AB2', 'B']        # combines all node types that are source of AB2\n",
        "new_g2\n",
        "new_g2.edges()"
      ],
      "metadata": {
        "colab": {
          "base_uri": "https://localhost:8080/"
        },
        "id": "-VnRVPCiEa-T",
        "outputId": "f08b0df9-3868-4b8e-9594-7cf80a7b1f48"
      },
      "execution_count": 113,
      "outputs": [
        {
          "output_type": "execute_result",
          "data": {
            "text/plain": [
              "(tensor([1, 2, 3, 5, 7, 9]), tensor([3, 4, 5, 2, 4, 6]))"
            ]
          },
          "metadata": {},
          "execution_count": 113
        }
      ]
    },
    {
      "cell_type": "code",
      "source": [
        "new_g1.edges['AB1+AB2'].data[dgl.EID]\n",
        "new_g1.edges['AB1+AB2'].data[dgl.ETYPE]\n",
        "new_g2.nodes['A1+A2'].data[dgl.NID]\n",
        "new_g2.nodes['A1+A2'].data[dgl.NTYPE]"
      ],
      "metadata": {
        "colab": {
          "base_uri": "https://localhost:8080/"
        },
        "id": "4k_D0a4oEbFm",
        "outputId": "2d70f5bf-1ea9-425b-b754-f6a0c6a71d55"
      },
      "execution_count": 114,
      "outputs": [
        {
          "output_type": "execute_result",
          "data": {
            "text/plain": [
              "tensor([0, 0, 0, 0, 1, 1, 1, 1, 1, 1])"
            ]
          },
          "metadata": {},
          "execution_count": 114
        }
      ]
    },
    {
      "cell_type": "code",
      "source": [],
      "metadata": {
        "id": "5r-ZpdZcr0ng"
      },
      "execution_count": null,
      "outputs": []
    },
    {
      "cell_type": "markdown",
      "source": [
        "# Subgraph Extraction Ops"
      ],
      "metadata": {
        "id": "5qp2CZcmr4KQ"
      }
    },
    {
      "cell_type": "code",
      "source": [
        "import dgl\n",
        "import torch"
      ],
      "metadata": {
        "id": "iIMSdmWVsDr0"
      },
      "execution_count": 4,
      "outputs": []
    },
    {
      "cell_type": "code",
      "source": [
        "g = dgl.graph(([0, 1, 2, 3, 4], [1, 2, 3, 4, 0]))  # 5-node cycle\n",
        "sg = dgl.node_subgraph(g, [0, 1, 4])\n",
        "sg\n",
        "sg.edges()\n",
        "sg.ndata[dgl.NID]  # original node IDs\n",
        "sg.edata[dgl.EID]  # original edge IDs"
      ],
      "metadata": {
        "colab": {
          "base_uri": "https://localhost:8080/"
        },
        "id": "rZu0H7XysDob",
        "outputId": "86ce88e1-e5d0-426f-97cb-96af0879beb0"
      },
      "execution_count": 5,
      "outputs": [
        {
          "output_type": "execute_result",
          "data": {
            "text/plain": [
              "tensor([0, 4])"
            ]
          },
          "metadata": {},
          "execution_count": 5
        }
      ]
    },
    {
      "cell_type": "code",
      "source": [
        "nodes = torch.tensor([True, True, False, False, True])  # choose nodes [0, 1, 4]\n",
        "dgl.node_subgraph(g, nodes)"
      ],
      "metadata": {
        "colab": {
          "base_uri": "https://localhost:8080/"
        },
        "id": "YOP-xTxysDlo",
        "outputId": "38d6f939-ccb4-40ed-95d5-9b9edde0fee3"
      },
      "execution_count": 6,
      "outputs": [
        {
          "output_type": "execute_result",
          "data": {
            "text/plain": [
              "Graph(num_nodes=3, num_edges=2,\n",
              "      ndata_schemes={'_ID': Scheme(shape=(), dtype=torch.int64)}\n",
              "      edata_schemes={'_ID': Scheme(shape=(), dtype=torch.int64)})"
            ]
          },
          "metadata": {},
          "execution_count": 6
        }
      ]
    },
    {
      "cell_type": "code",
      "source": [
        "g.ndata['x'] = torch.arange(10).view(5, 2)\n",
        "sg = dgl.node_subgraph(g, [0, 1, 4])\n",
        "sg\n",
        "sg.ndata['x']"
      ],
      "metadata": {
        "colab": {
          "base_uri": "https://localhost:8080/"
        },
        "id": "nRTWP8vysDhL",
        "outputId": "75e54eb0-a6b0-4da2-e580-2e77bb1c580c"
      },
      "execution_count": 7,
      "outputs": [
        {
          "output_type": "execute_result",
          "data": {
            "text/plain": [
              "tensor([[0, 1],\n",
              "        [2, 3],\n",
              "        [8, 9]])"
            ]
          },
          "metadata": {},
          "execution_count": 7
        }
      ]
    },
    {
      "cell_type": "code",
      "source": [
        "g = dgl.heterograph({\n",
        "    ('user', 'plays', 'game'): ([0, 1, 1, 2], [0, 0, 2, 1]),\n",
        "    ('user', 'follows', 'user'): ([0, 1, 1], [1, 2, 2])\n",
        "})\n",
        "sub_g = dgl.node_subgraph(g, {'user': [1, 2]})\n",
        "sub_g"
      ],
      "metadata": {
        "colab": {
          "base_uri": "https://localhost:8080/"
        },
        "id": "bezBQF2VsDef",
        "outputId": "cfaeb91e-1d98-48b2-890c-e85439f1ad77"
      },
      "execution_count": 8,
      "outputs": [
        {
          "output_type": "execute_result",
          "data": {
            "text/plain": [
              "Graph(num_nodes={'game': 0, 'user': 2},\n",
              "      num_edges={('user', 'follows', 'user'): 2, ('user', 'plays', 'game'): 0},\n",
              "      metagraph=[('user', 'user', 'follows'), ('user', 'game', 'plays')])"
            ]
          },
          "metadata": {},
          "execution_count": 8
        }
      ]
    },
    {
      "cell_type": "code",
      "source": [
        "g = dgl.graph(([0, 1, 2, 3, 4], [1, 2, 3, 4, 0]))  # 5-node cycle\n",
        "sg = dgl.edge_subgraph(g, [0, 4])\n",
        "sg\n",
        "sg.edges()\n",
        "sg.ndata[dgl.NID]  # original node IDs\n",
        "sg.edata[dgl.EID]  # original edge IDs"
      ],
      "metadata": {
        "colab": {
          "base_uri": "https://localhost:8080/"
        },
        "id": "fuYNNk_ZsDQA",
        "outputId": "91537405-5802-4edf-d692-1cf8067a9a40"
      },
      "execution_count": 9,
      "outputs": [
        {
          "output_type": "execute_result",
          "data": {
            "text/plain": [
              "tensor([0, 4])"
            ]
          },
          "metadata": {},
          "execution_count": 9
        }
      ]
    },
    {
      "cell_type": "code",
      "source": [
        "sg = dgl.edge_subgraph(g, [0, 4], relabel_nodes=False)\n",
        "sg\n",
        "sg.edges()"
      ],
      "metadata": {
        "colab": {
          "base_uri": "https://localhost:8080/"
        },
        "id": "8F1_KI_oYhfk",
        "outputId": "3e2f48b9-6a50-4bd6-bef6-91db1bdaac19"
      },
      "execution_count": 11,
      "outputs": [
        {
          "output_type": "execute_result",
          "data": {
            "text/plain": [
              "(tensor([0, 4]), tensor([1, 0]))"
            ]
          },
          "metadata": {},
          "execution_count": 11
        }
      ]
    },
    {
      "cell_type": "code",
      "source": [
        "nodes = torch.tensor([True, False, False, False, True])  # choose edges [0, 4]\n",
        "dgl.edge_subgraph(g, nodes)"
      ],
      "metadata": {
        "colab": {
          "base_uri": "https://localhost:8080/"
        },
        "id": "h4UHmgSAYih9",
        "outputId": "98bc8bdd-33fb-4bfc-bc38-cca07e166529"
      },
      "execution_count": 12,
      "outputs": [
        {
          "output_type": "execute_result",
          "data": {
            "text/plain": [
              "Graph(num_nodes=3, num_edges=2,\n",
              "      ndata_schemes={'_ID': Scheme(shape=(), dtype=torch.int64)}\n",
              "      edata_schemes={'_ID': Scheme(shape=(), dtype=torch.int64)})"
            ]
          },
          "metadata": {},
          "execution_count": 12
        }
      ]
    },
    {
      "cell_type": "code",
      "source": [
        "g.ndata['x'] = torch.arange(10).view(5, 2)\n",
        "sg = dgl.edge_subgraph(g, [0, 4])\n",
        "sg\n",
        "sg.ndata[dgl.NID]\n",
        "sg.ndata['x']"
      ],
      "metadata": {
        "colab": {
          "base_uri": "https://localhost:8080/"
        },
        "id": "Kzil4eMCYikL",
        "outputId": "f8f31416-0e22-4f78-ce30-030d85e9e279"
      },
      "execution_count": 13,
      "outputs": [
        {
          "output_type": "execute_result",
          "data": {
            "text/plain": [
              "tensor([[0, 1],\n",
              "        [8, 9],\n",
              "        [2, 3]])"
            ]
          },
          "metadata": {},
          "execution_count": 13
        }
      ]
    },
    {
      "cell_type": "code",
      "source": [
        "g = dgl.heterograph({\n",
        "    ('user', 'plays', 'game'): ([0, 1, 1, 2], [0, 0, 2, 1]),\n",
        "    ('user', 'follows', 'user'): ([0, 1, 1], [1, 2, 2])\n",
        "})\n",
        "sub_g = dgl.edge_subgraph(g, {('user', 'follows', 'user'): [1, 2],\n",
        "                              ('user', 'plays', 'game'): [2]})\n",
        "print(sub_g)"
      ],
      "metadata": {
        "colab": {
          "base_uri": "https://localhost:8080/"
        },
        "id": "xjAkecIvYimm",
        "outputId": "812d8dc5-478d-4fef-ee56-99aa7fa628f8"
      },
      "execution_count": 14,
      "outputs": [
        {
          "output_type": "stream",
          "name": "stdout",
          "text": [
            "Graph(num_nodes={'game': 1, 'user': 2},\n",
            "      num_edges={('user', 'follows', 'user'): 2, ('user', 'plays', 'game'): 1},\n",
            "      metagraph=[('user', 'user', 'follows'), ('user', 'game', 'plays')])\n"
          ]
        }
      ]
    },
    {
      "cell_type": "code",
      "source": [
        "g = dgl.heterograph({\n",
        "    ('user', 'plays', 'game'): ([0, 1, 1, 2], [0, 0, 2, 1]),\n",
        "    ('user', 'follows', 'user'): ([0, 1, 1], [1, 2, 2])\n",
        "})\n",
        "# Set node features\n",
        "g.nodes['user'].data['h'] = torch.tensor([[0.], [1.], [2.]])"
      ],
      "metadata": {
        "id": "GC1VavbEYipB"
      },
      "execution_count": 15,
      "outputs": []
    },
    {
      "cell_type": "code",
      "source": [
        "sub_g = g.node_type_subgraph(['user'])\n",
        "print(sub_g)"
      ],
      "metadata": {
        "colab": {
          "base_uri": "https://localhost:8080/"
        },
        "id": "ep8O3PhWYirU",
        "outputId": "e6faffb7-2ccf-40a9-a5a8-54b44a55e241"
      },
      "execution_count": 16,
      "outputs": [
        {
          "output_type": "stream",
          "name": "stdout",
          "text": [
            "Graph(num_nodes=3, num_edges=3,\n",
            "      ndata_schemes={'h': Scheme(shape=(1,), dtype=torch.float32)}\n",
            "      edata_schemes={})\n"
          ]
        }
      ]
    },
    {
      "cell_type": "code",
      "source": [
        "sub_g.nodes['user'].data['h']"
      ],
      "metadata": {
        "colab": {
          "base_uri": "https://localhost:8080/"
        },
        "id": "KM-fMztmfvYs",
        "outputId": "c67b0ba8-4fa7-4a00-cb91-99c15d40c76f"
      },
      "execution_count": 17,
      "outputs": [
        {
          "output_type": "execute_result",
          "data": {
            "text/plain": [
              "tensor([[0.],\n",
              "        [1.],\n",
              "        [2.]])"
            ]
          },
          "metadata": {},
          "execution_count": 17
        }
      ]
    },
    {
      "cell_type": "code",
      "source": [
        "g = dgl.heterograph({\n",
        "    ('user', 'plays', 'game'): ([0, 1, 1, 2], [0, 0, 2, 1]),\n",
        "    ('user', 'follows', 'user'): ([0, 1, 1], [1, 2, 2])\n",
        "})\n",
        "# Set edge features\n",
        "g.edges['follows'].data['h'] = torch.tensor([[0.], [1.], [2.]])"
      ],
      "metadata": {
        "id": "xZ43cwibfvbb"
      },
      "execution_count": 18,
      "outputs": []
    },
    {
      "cell_type": "code",
      "source": [
        "sub_g = g.edge_type_subgraph(['follows'])\n",
        "sub_g"
      ],
      "metadata": {
        "colab": {
          "base_uri": "https://localhost:8080/"
        },
        "id": "UAAfa-W2fveF",
        "outputId": "b29e9010-66c4-477f-c2c8-80e1963b587a"
      },
      "execution_count": 19,
      "outputs": [
        {
          "output_type": "execute_result",
          "data": {
            "text/plain": [
              "Graph(num_nodes=3, num_edges=3,\n",
              "      ndata_schemes={}\n",
              "      edata_schemes={'h': Scheme(shape=(1,), dtype=torch.float32)})"
            ]
          },
          "metadata": {},
          "execution_count": 19
        }
      ]
    },
    {
      "cell_type": "code",
      "source": [
        "sub_g.edges['follows'].data['h']"
      ],
      "metadata": {
        "colab": {
          "base_uri": "https://localhost:8080/"
        },
        "id": "DCG-xjbZfvgu",
        "outputId": "9072fc29-eece-4f76-9d92-eea5bb12743f"
      },
      "execution_count": 20,
      "outputs": [
        {
          "output_type": "execute_result",
          "data": {
            "text/plain": [
              "tensor([[0.],\n",
              "        [1.],\n",
              "        [2.]])"
            ]
          },
          "metadata": {},
          "execution_count": 20
        }
      ]
    },
    {
      "cell_type": "code",
      "source": [
        "g = dgl.graph(([0, 1, 2, 3, 4], [1, 2, 3, 4, 0]))  # 5-node cycle\n",
        "g.edata['w'] = torch.arange(10).view(5, 2)\n",
        "sg = dgl.in_subgraph(g, [2, 0])\n",
        "sg\n",
        "sg.edges()\n",
        "sg.edata[dgl.EID]  # original edge IDs\n",
        "sg.edata['w']  # also extract the features"
      ],
      "metadata": {
        "colab": {
          "base_uri": "https://localhost:8080/"
        },
        "id": "GDZnKgWGfvkM",
        "outputId": "d3de145a-fd75-4712-e004-d8447b347a65"
      },
      "execution_count": 21,
      "outputs": [
        {
          "output_type": "execute_result",
          "data": {
            "text/plain": [
              "tensor([[2, 3],\n",
              "        [8, 9]])"
            ]
          },
          "metadata": {},
          "execution_count": 21
        }
      ]
    },
    {
      "cell_type": "code",
      "source": [
        "sg = dgl.in_subgraph(g, [2, 0], relabel_nodes=True)\n",
        "sg\n",
        "sg.edges()\n",
        "sg.edata[dgl.EID]  # original edge IDs\n",
        "sg.ndata[dgl.NID]  # original node IDs"
      ],
      "metadata": {
        "colab": {
          "base_uri": "https://localhost:8080/"
        },
        "id": "7OUmK_pmYiuy",
        "outputId": "b8ffe6b9-3a6b-4abf-f80a-a2c763efed84"
      },
      "execution_count": 23,
      "outputs": [
        {
          "output_type": "execute_result",
          "data": {
            "text/plain": [
              "tensor([1, 4, 2, 0])"
            ]
          },
          "metadata": {},
          "execution_count": 23
        }
      ]
    },
    {
      "cell_type": "code",
      "source": [
        "g = dgl.heterograph({\n",
        "    ('user', 'plays', 'game'): ([0, 1, 1, 2], [0, 0, 2, 1]),\n",
        "    ('user', 'follows', 'user'): ([0, 1, 1], [1, 2, 2])})\n",
        "sub_g = g.in_subgraph({'user': [2], 'game': [2]})\n",
        "sub_g"
      ],
      "metadata": {
        "colab": {
          "base_uri": "https://localhost:8080/"
        },
        "id": "xY59QlcwghTG",
        "outputId": "aec9013b-c0ee-4595-a54d-622a2509197f"
      },
      "execution_count": 24,
      "outputs": [
        {
          "output_type": "execute_result",
          "data": {
            "text/plain": [
              "Graph(num_nodes={'game': 3, 'user': 3},\n",
              "      num_edges={('user', 'follows', 'user'): 2, ('user', 'plays', 'game'): 1},\n",
              "      metagraph=[('user', 'user', 'follows'), ('user', 'game', 'plays')])"
            ]
          },
          "metadata": {},
          "execution_count": 24
        }
      ]
    },
    {
      "cell_type": "code",
      "source": [
        "g = dgl.graph(([0, 1, 2, 3, 4], [1, 2, 3, 4, 0]))  # 5-node cycle\n",
        "g.edata['w'] = torch.arange(10).view(5, 2)\n",
        "sg = dgl.out_subgraph(g, [2, 0])\n",
        "sg\n",
        "sg.edges()\n",
        "sg.edata[dgl.EID]  # original edge IDs\n",
        "sg.edata['w']  # also extract the features"
      ],
      "metadata": {
        "colab": {
          "base_uri": "https://localhost:8080/"
        },
        "id": "-IhcqdrGghVp",
        "outputId": "3be74809-f96e-4d72-f269-ceeb426e10e6"
      },
      "execution_count": 25,
      "outputs": [
        {
          "output_type": "execute_result",
          "data": {
            "text/plain": [
              "tensor([[4, 5],\n",
              "        [0, 1]])"
            ]
          },
          "metadata": {},
          "execution_count": 25
        }
      ]
    },
    {
      "cell_type": "code",
      "source": [
        "sg = dgl.out_subgraph(g, [2, 0], relabel_nodes=True)\n",
        "sg\n",
        "sg.edges()\n",
        "sg.edata[dgl.EID]  # original edge IDs\n",
        "sg.ndata[dgl.NID]  # original node IDs"
      ],
      "metadata": {
        "colab": {
          "base_uri": "https://localhost:8080/"
        },
        "id": "o2wIIgGHghYR",
        "outputId": "3daabdcf-8b3b-4faf-a57e-e4173926e7d8"
      },
      "execution_count": 26,
      "outputs": [
        {
          "output_type": "execute_result",
          "data": {
            "text/plain": [
              "tensor([2, 0, 3, 1])"
            ]
          },
          "metadata": {},
          "execution_count": 26
        }
      ]
    },
    {
      "cell_type": "code",
      "source": [
        "g = dgl.heterograph({\n",
        "    ('user', 'plays', 'game'): ([0, 1, 1, 2], [0, 0, 2, 1]),\n",
        "    ('user', 'follows', 'user'): ([0, 1, 1], [1, 2, 2])})\n",
        "sub_g = g.out_subgraph({'user': [1]})\n",
        "sub_g"
      ],
      "metadata": {
        "colab": {
          "base_uri": "https://localhost:8080/"
        },
        "id": "HhkkEYZsghbC",
        "outputId": "b3e4aaf9-be70-42d1-bf3b-5265400c8787"
      },
      "execution_count": 27,
      "outputs": [
        {
          "output_type": "execute_result",
          "data": {
            "text/plain": [
              "Graph(num_nodes={'game': 3, 'user': 3},\n",
              "      num_edges={('user', 'follows', 'user'): 2, ('user', 'plays', 'game'): 2},\n",
              "      metagraph=[('user', 'user', 'follows'), ('user', 'game', 'plays')])"
            ]
          },
          "metadata": {},
          "execution_count": 27
        }
      ]
    },
    {
      "cell_type": "code",
      "source": [
        "g = dgl.graph(([1, 1, 2, 3, 4], [0, 2, 0, 4, 2]))\n",
        "g.edata['w'] = torch.arange(10).view(5, 2)\n",
        "sg, inverse_indices = dgl.khop_in_subgraph(g, 0, k=2)\n",
        "sg\n",
        "sg.edges()\n",
        "sg.edata[dgl.EID]  # original edge IDs\n",
        "sg.edata['w']  # also extract the features\n",
        "inverse_indices"
      ],
      "metadata": {
        "colab": {
          "base_uri": "https://localhost:8080/"
        },
        "id": "kqZOGnKvgheZ",
        "outputId": "425ffba4-e64b-441a-a57d-a69d42470b73"
      },
      "execution_count": 28,
      "outputs": [
        {
          "output_type": "execute_result",
          "data": {
            "text/plain": [
              "tensor([0])"
            ]
          },
          "metadata": {},
          "execution_count": 28
        }
      ]
    },
    {
      "cell_type": "code",
      "source": [
        "g = dgl.heterograph({\n",
        "    ('user', 'plays', 'game'): ([0, 1, 1, 2], [0, 0, 2, 1]),\n",
        "    ('user', 'follows', 'user'): ([0, 1, 1], [1, 2, 2])})\n",
        "sg, inverse_indices = dgl.khop_in_subgraph(g, {'game': 0}, k=2)\n",
        "sg\n",
        "inverse_indices"
      ],
      "metadata": {
        "colab": {
          "base_uri": "https://localhost:8080/"
        },
        "id": "apWTMkGAh1Ek",
        "outputId": "749421bf-74d9-4c84-a510-dea65eb37fa4"
      },
      "execution_count": 29,
      "outputs": [
        {
          "output_type": "execute_result",
          "data": {
            "text/plain": [
              "{'game': tensor([0])}"
            ]
          },
          "metadata": {},
          "execution_count": 29
        }
      ]
    },
    {
      "cell_type": "code",
      "source": [
        "g = dgl.graph(([0, 2, 0, 4, 2], [1, 1, 2, 3, 4]))\n",
        "g.edata['w'] = torch.arange(10).view(5, 2)\n",
        "sg, inverse_indices = dgl.khop_out_subgraph(g, 0, k=2)\n",
        "sg\n",
        "sg.edges()\n",
        "sg.edata[dgl.EID]  # original edge IDs\n",
        "sg.edata['w']  # also extract the features\n",
        "inverse_indices"
      ],
      "metadata": {
        "colab": {
          "base_uri": "https://localhost:8080/"
        },
        "id": "ZvFkqLVvh1HF",
        "outputId": "de087237-5504-470d-985d-49020747bcd4"
      },
      "execution_count": 30,
      "outputs": [
        {
          "output_type": "execute_result",
          "data": {
            "text/plain": [
              "tensor([0])"
            ]
          },
          "metadata": {},
          "execution_count": 30
        }
      ]
    },
    {
      "cell_type": "code",
      "source": [
        "g = dgl.heterograph({\n",
        "    ('user', 'plays', 'game'): ([0, 1, 1, 2], [0, 0, 2, 1]),\n",
        "    ('user', 'follows', 'user'): ([0, 1], [1, 3])})\n",
        "sg, inverse_indices = dgl.khop_out_subgraph(g, {'user': 0}, k=2)\n",
        "sg\n",
        "inverse_indices"
      ],
      "metadata": {
        "colab": {
          "base_uri": "https://localhost:8080/"
        },
        "id": "EbZ_Y6wOh1Jm",
        "outputId": "b5e28b95-ebe1-48f5-aae5-7959b86fa1af"
      },
      "execution_count": 31,
      "outputs": [
        {
          "output_type": "execute_result",
          "data": {
            "text/plain": [
              "{'user': tensor([0])}"
            ]
          },
          "metadata": {},
          "execution_count": 31
        }
      ]
    },
    {
      "cell_type": "code",
      "source": [],
      "metadata": {
        "id": "zIo3_bAcjbCv"
      },
      "execution_count": null,
      "outputs": []
    },
    {
      "cell_type": "markdown",
      "source": [
        "# dgl.save_graphs¶"
      ],
      "metadata": {
        "id": "7jaP6NNgioLt"
      }
    },
    {
      "cell_type": "code",
      "source": [
        "import dgl\n",
        "import torch as th"
      ],
      "metadata": {
        "id": "_4H9eJm7ioxc"
      },
      "execution_count": 32,
      "outputs": []
    },
    {
      "cell_type": "code",
      "source": [
        "g1 = dgl.graph(([0, 1, 2], [1, 2, 3]))\n",
        "g2 = dgl.graph(([0, 2], [2, 3]))\n",
        "g2.edata[\"e\"] = th.ones(2, 4)"
      ],
      "metadata": {
        "id": "TpHwAtf8io0p"
      },
      "execution_count": 33,
      "outputs": []
    },
    {
      "cell_type": "code",
      "source": [
        "from dgl.data.utils import save_graphs\n",
        "graph_labels = {\"glabel\": th.tensor([0, 1])}\n",
        "save_graphs(\"./data.bin\", [g1, g2], graph_labels)"
      ],
      "metadata": {
        "id": "GhF3hL6aio4K"
      },
      "execution_count": 34,
      "outputs": []
    },
    {
      "cell_type": "markdown",
      "source": [
        "# dgl.load_graphs"
      ],
      "metadata": {
        "id": "85nm7_WbiftA"
      }
    },
    {
      "cell_type": "code",
      "source": [
        "from dgl.data.utils import load_graphs\n",
        "glist, label_dict = load_graphs(\"./data.bin\") # glist will be [g1, g2]\n",
        "glist, label_dict = load_graphs(\"./data.bin\", [0]) # glist will be [g1]"
      ],
      "metadata": {
        "id": "CCUwgFoth1MI"
      },
      "execution_count": 36,
      "outputs": []
    },
    {
      "cell_type": "code",
      "source": [],
      "metadata": {
        "id": "v6W09tbyh1Pi"
      },
      "execution_count": null,
      "outputs": []
    }
  ]
}